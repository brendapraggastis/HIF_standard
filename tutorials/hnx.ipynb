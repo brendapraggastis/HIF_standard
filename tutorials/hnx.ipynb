{
 "cells": [
  {
   "cell_type": "code",
   "execution_count": 2,
   "id": "1e2a1770-c38a-40f1-88d9-9c84348ceee4",
   "metadata": {
    "execution": {
     "iopub.execute_input": "2024-12-06T00:26:08.214258Z",
     "iopub.status.busy": "2024-12-06T00:26:08.213876Z",
     "iopub.status.idle": "2024-12-06T00:26:08.267222Z",
     "shell.execute_reply": "2024-12-06T00:26:08.266529Z",
     "shell.execute_reply.started": "2024-12-06T00:26:08.214233Z"
    }
   },
   "outputs": [],
   "source": [
    "import json\n",
    "import random\n",
    "import warnings\n",
    "from copy import deepcopy\n",
    "import fastjsonschema\n",
    "import hypernetx as hnx\n",
    "import numpy as np\n",
    "import pandas as pd"
   ]
  },
  {
   "cell_type": "code",
   "execution_count": 3,
   "id": "b085c415-c2fa-4883-b940-7c32d416abc6",
   "metadata": {
    "execution": {
     "iopub.execute_input": "2024-12-06T00:26:08.990678Z",
     "iopub.status.busy": "2024-12-06T00:26:08.990210Z",
     "iopub.status.idle": "2024-12-06T00:26:08.995284Z",
     "shell.execute_reply": "2024-12-06T00:26:08.994590Z",
     "shell.execute_reply.started": "2024-12-06T00:26:08.990648Z"
    }
   },
   "outputs": [],
   "source": [
    "warnings.simplefilter(\"ignore\")"
   ]
  },
  {
   "cell_type": "markdown",
   "id": "922a93a1-93aa-4bf6-a1ee-73eda24ddbb3",
   "metadata": {},
   "source": [
    "## Create a hypergraph with data"
   ]
  },
  {
   "cell_type": "code",
   "execution_count": 9,
   "id": "f626cf88-03e2-4067-a717-4af552d9e368",
   "metadata": {
    "execution": {
     "iopub.execute_input": "2024-12-06T00:29:35.361107Z",
     "iopub.status.busy": "2024-12-06T00:29:35.360712Z",
     "iopub.status.idle": "2024-12-06T00:29:35.659562Z",
     "shell.execute_reply": "2024-12-06T00:29:35.659276Z",
     "shell.execute_reply.started": "2024-12-06T00:29:35.361083Z"
    }
   },
   "outputs": [],
   "source": [
    "from hypernetx.utils import toys\n",
    "\n",
    "lesmis = toys.LesMis()\n",
    "names = lesmis.df_names\n",
    "scenes = lesmis.df_scenes\n",
    "scenes[\"edge\"] = [\n",
    "    \".\".join([str(scenes.loc[idx][col]) for col in scenes.columns[:-2]])\n",
    "    for idx in scenes.index\n",
    "]\n",
    "scenes[\"node\"] = scenes[\"Characters\"]\n",
    "df = scenes[[\"edge\", \"node\"]]\n",
    "cell_weights = df.groupby([\"edge\"]).count().to_dict()[\"node\"]\n",
    "df[\"weight\"] = df.edge.map(lambda e: np.round(1 / cell_weights.get(e, 1), 2))\n",
    "nprops = names\n",
    "nprops[\"weight\"] = np.round(np.random.uniform(0, 1, len(names)), 2)\n",
    "lm = hnx.Hypergraph(\n",
    "    df,\n",
    "    cell_weight_col=\"weight\",\n",
    "    node_properties=nprops,\n",
    "    node_weight_prop_col=\"weight\",\n",
    ")\n",
    "lm.nodes['JV'].job = 'mayor'\n",
    "lm.nodes['MY'].avocation = 'to be kind'\n",
    "lm.nodes['BS'].vocation = 'explorer'"
   ]
  },
  {
   "cell_type": "raw",
   "id": "318fc77b-2b2b-4a9c-afe7-73e08bf51258",
   "metadata": {},
   "source": [
    "from hypernetx.utils import toys\n",
    "\n",
    "lesmis = toys.LesMis()\n",
    "names = lesmis.df_names\n",
    "scenes = lesmis.df_scenes\n",
    "scenes[\"edges\"] = [\n",
    "    \".\".join([str(scenes.loc[idx][col]) for col in scenes.columns[:-2]])\n",
    "    for idx in scenes.index\n",
    "]\n",
    "scenes[\"nodes\"] = scenes[\"Characters\"]\n",
    "scenes"
   ]
  },
  {
   "cell_type": "raw",
   "id": "a85ca992-bbf4-43cd-af00-be8fd6132f63",
   "metadata": {},
   "source": [
    "df = scenes[[\"edges\", \"nodes\"]]\n",
    "cell_weights = df.groupby([\"edges\"]).count().to_dict()[\"nodes\"]\n",
    "df[\"weights\"] = df.edges.map(lambda e: np.round(1 / cell_weights.get(e, 1), 2))\n",
    "df"
   ]
  },
  {
   "cell_type": "raw",
   "id": "f787238f-98c7-4a41-9d23-7667422e6f08",
   "metadata": {},
   "source": [
    "nprops = names\n",
    "nprops[\"weights\"] = np.round(np.random.uniform(0, 1, len(names)), 2)\n",
    "nprops"
   ]
  },
  {
   "cell_type": "raw",
   "id": "a7922aa9-0b3c-4cc3-800b-0b7822f57af6",
   "metadata": {},
   "source": [
    "lm = hnx.Hypergraph(\n",
    "    df,\n",
    "    cell_weight_col=\"weights\",\n",
    "    node_properties=nprops,\n",
    "    node_weight_prop_col=\"weights\",\n",
    ")\n",
    "lm.dataframe"
   ]
  },
  {
   "cell_type": "code",
   "execution_count": 10,
   "id": "8ba68da5-0b17-426f-b30f-4f73c6800740",
   "metadata": {
    "execution": {
     "iopub.execute_input": "2024-12-06T00:29:37.530795Z",
     "iopub.status.busy": "2024-12-06T00:29:37.530213Z",
     "iopub.status.idle": "2024-12-06T00:29:37.548680Z",
     "shell.execute_reply": "2024-12-06T00:29:37.548106Z",
     "shell.execute_reply.started": "2024-12-06T00:29:37.530770Z"
    }
   },
   "outputs": [
    {
     "data": {
      "text/html": [
       "<div>\n",
       "<style scoped>\n",
       "    .dataframe tbody tr th:only-of-type {\n",
       "        vertical-align: middle;\n",
       "    }\n",
       "\n",
       "    .dataframe tbody tr th {\n",
       "        vertical-align: top;\n",
       "    }\n",
       "\n",
       "    .dataframe thead th {\n",
       "        text-align: right;\n",
       "    }\n",
       "</style>\n",
       "<table border=\"1\" class=\"dataframe\">\n",
       "  <thead>\n",
       "    <tr style=\"text-align: right;\">\n",
       "      <th></th>\n",
       "      <th>weight</th>\n",
       "      <th>FullName</th>\n",
       "      <th>Description</th>\n",
       "      <th>misc_properties</th>\n",
       "    </tr>\n",
       "    <tr>\n",
       "      <th>uid</th>\n",
       "      <th></th>\n",
       "      <th></th>\n",
       "      <th></th>\n",
       "      <th></th>\n",
       "    </tr>\n",
       "  </thead>\n",
       "  <tbody>\n",
       "    <tr>\n",
       "      <th>MY</th>\n",
       "      <td>0.45</td>\n",
       "      <td>Monsieur Charles Fran\\c{c}ois Bienvenu Myriel</td>\n",
       "      <td>Bishop of D--</td>\n",
       "      <td>{'avocation': 'to be kind'}</td>\n",
       "    </tr>\n",
       "    <tr>\n",
       "      <th>NP</th>\n",
       "      <td>0.95</td>\n",
       "      <td>Napoleon</td>\n",
       "      <td>Emperor of France</td>\n",
       "      <td>{}</td>\n",
       "    </tr>\n",
       "    <tr>\n",
       "      <th>MB</th>\n",
       "      <td>0.40</td>\n",
       "      <td>Mademoiselle Baptistine</td>\n",
       "      <td>sister of MY</td>\n",
       "      <td>{}</td>\n",
       "    </tr>\n",
       "    <tr>\n",
       "      <th>ME</th>\n",
       "      <td>0.42</td>\n",
       "      <td>Madame Magloire</td>\n",
       "      <td>housekeeper to MY</td>\n",
       "      <td>{}</td>\n",
       "    </tr>\n",
       "    <tr>\n",
       "      <th>CL</th>\n",
       "      <td>0.71</td>\n",
       "      <td>Countess de Lô</td>\n",
       "      <td>distant relative of MY</td>\n",
       "      <td>{}</td>\n",
       "    </tr>\n",
       "    <tr>\n",
       "      <th>...</th>\n",
       "      <td>...</td>\n",
       "      <td>...</td>\n",
       "      <td>...</td>\n",
       "      <td>...</td>\n",
       "    </tr>\n",
       "    <tr>\n",
       "      <th>XA</th>\n",
       "      <td>0.24</td>\n",
       "      <td>Child 1</td>\n",
       "      <td>son of TH sold to MN</td>\n",
       "      <td>{}</td>\n",
       "    </tr>\n",
       "    <tr>\n",
       "      <th>XB</th>\n",
       "      <td>0.16</td>\n",
       "      <td>Child 2</td>\n",
       "      <td>son of TH sold to MN</td>\n",
       "      <td>{}</td>\n",
       "    </tr>\n",
       "    <tr>\n",
       "      <th>BJ</th>\n",
       "      <td>0.12</td>\n",
       "      <td>Brujon</td>\n",
       "      <td>notorious criminal</td>\n",
       "      <td>{}</td>\n",
       "    </tr>\n",
       "    <tr>\n",
       "      <th>HL</th>\n",
       "      <td>0.16</td>\n",
       "      <td>Madame Hucheloup</td>\n",
       "      <td>keeper of Corinth Inn</td>\n",
       "      <td>{}</td>\n",
       "    </tr>\n",
       "    <tr>\n",
       "      <th>BS</th>\n",
       "      <td>0.02</td>\n",
       "      <td>Bruneseau</td>\n",
       "      <td>explorer and mapper of the sewers of Paris</td>\n",
       "      <td>{'vocation': 'explorer'}</td>\n",
       "    </tr>\n",
       "  </tbody>\n",
       "</table>\n",
       "<p>80 rows × 4 columns</p>\n",
       "</div>"
      ],
      "text/plain": [
       "     weight                                       FullName  \\\n",
       "uid                                                          \n",
       "MY     0.45  Monsieur Charles Fran\\c{c}ois Bienvenu Myriel   \n",
       "NP     0.95                                       Napoleon   \n",
       "MB     0.40                        Mademoiselle Baptistine   \n",
       "ME     0.42                                Madame Magloire   \n",
       "CL     0.71                                 Countess de Lô   \n",
       "..      ...                                            ...   \n",
       "XA     0.24                                        Child 1   \n",
       "XB     0.16                                        Child 2   \n",
       "BJ     0.12                                         Brujon   \n",
       "HL     0.16                               Madame Hucheloup   \n",
       "BS     0.02                                      Bruneseau   \n",
       "\n",
       "                                     Description              misc_properties  \n",
       "uid                                                                            \n",
       "MY                                 Bishop of D--  {'avocation': 'to be kind'}  \n",
       "NP                             Emperor of France                           {}  \n",
       "MB                                  sister of MY                           {}  \n",
       "ME                             housekeeper to MY                           {}  \n",
       "CL                        distant relative of MY                           {}  \n",
       "..                                           ...                          ...  \n",
       "XA                          son of TH sold to MN                           {}  \n",
       "XB                          son of TH sold to MN                           {}  \n",
       "BJ                            notorious criminal                           {}  \n",
       "HL                         keeper of Corinth Inn                           {}  \n",
       "BS    explorer and mapper of the sewers of Paris     {'vocation': 'explorer'}  \n",
       "\n",
       "[80 rows x 4 columns]"
      ]
     },
     "execution_count": 10,
     "metadata": {},
     "output_type": "execute_result"
    }
   ],
   "source": [
    "lm.nodes.dataframe"
   ]
  },
  {
   "cell_type": "markdown",
   "id": "2ba6f018-ae32-4541-bee4-d3813b7f4730",
   "metadata": {},
   "source": [
    "## Load schema and create validator"
   ]
  },
  {
   "cell_type": "code",
   "execution_count": 14,
   "id": "237b1b5b-5578-4898-9777-73e954a63d70",
   "metadata": {
    "execution": {
     "iopub.execute_input": "2024-12-06T00:30:04.756642Z",
     "iopub.status.busy": "2024-12-06T00:30:04.756271Z",
     "iopub.status.idle": "2024-12-06T00:30:04.805164Z",
     "shell.execute_reply": "2024-12-06T00:30:04.801226Z",
     "shell.execute_reply.started": "2024-12-06T00:30:04.756619Z"
    }
   },
   "outputs": [
    {
     "data": {
      "text/plain": [
       "{'$schema': 'http://json-schema.org/draft-07/schema#',\n",
       " '$id': 'https://raw.githubusercontent.com/pszufe/HIF_validators/main/schemas/hif_schema_v0.1.0.json',\n",
       " 'title': 'Hypergraph Interchange Format v0.1.0',\n",
       " 'type': 'object',\n",
       " 'properties': {'network-type': {'enum': ['undirected', 'directed', 'asc']},\n",
       "  'metadata': {'type': 'object'},\n",
       "  'incidences': {'type': 'array',\n",
       "   'items': {'type': 'object',\n",
       "    'properties': {'edge': {'type': ['string', 'integer']},\n",
       "     'node': {'type': ['string', 'integer']},\n",
       "     'weight': {'type': 'number'},\n",
       "     'direction': {'enum': ['head', 'tail']},\n",
       "     'attrs': {'type': 'object'}},\n",
       "    'unevaluatedProperties': False,\n",
       "    'additionalProperties': False,\n",
       "    'required': ['edge', 'node']}},\n",
       "  'nodes': {'type': 'array',\n",
       "   'items': {'type': 'object',\n",
       "    'properties': {'node': {'type': ['string', 'integer']},\n",
       "     'weight': {'type': 'number'},\n",
       "     'attrs': {'type': 'object'}},\n",
       "    'unevaluatedProperties': False,\n",
       "    'additionalProperties': False,\n",
       "    'required': ['node']}},\n",
       "  'edges': {'type': 'array',\n",
       "   'items': {'type': 'object',\n",
       "    'properties': {'edge': {'type': ['string', 'integer']},\n",
       "     'weight': {'type': 'number'},\n",
       "     'attrs': {'type': 'object'}},\n",
       "    'unevaluatedProperties': False,\n",
       "    'additionalProperties': False,\n",
       "    'required': ['edge']}}},\n",
       " 'unevaluatedProperties': False,\n",
       " 'additionalProperties': False,\n",
       " 'required': ['incidences']}"
      ]
     },
     "execution_count": 14,
     "metadata": {},
     "output_type": "execute_result"
    }
   ],
   "source": [
    "schema = json.load(open(\"../schemas/hif_schema_v0.1.0.json\", \"r\"))\n",
    "schema"
   ]
  },
  {
   "cell_type": "code",
   "execution_count": 15,
   "id": "d9f3d1c8-fb35-4fb4-b70b-b9c3a401ce00",
   "metadata": {
    "execution": {
     "iopub.execute_input": "2024-12-06T00:30:16.417643Z",
     "iopub.status.busy": "2024-12-06T00:30:16.417270Z",
     "iopub.status.idle": "2024-12-06T00:30:16.434678Z",
     "shell.execute_reply": "2024-12-06T00:30:16.432730Z",
     "shell.execute_reply.started": "2024-12-06T00:30:16.417619Z"
    }
   },
   "outputs": [],
   "source": [
    "validator = fastjsonschema.compile(schema);"
   ]
  },
  {
   "cell_type": "markdown",
   "id": "60b6eb43-0e60-4044-b615-1e1c1efad41f",
   "metadata": {},
   "source": [
    "## HNX translators"
   ]
  },
  {
   "cell_type": "code",
   "execution_count": 19,
   "id": "67b49e3e-ca3a-4bab-91ec-d683e9700340",
   "metadata": {
    "execution": {
     "iopub.execute_input": "2024-12-06T00:31:50.946899Z",
     "iopub.status.busy": "2024-12-06T00:31:50.946320Z",
     "iopub.status.idle": "2024-12-06T00:31:50.967390Z",
     "shell.execute_reply": "2024-12-06T00:31:50.966732Z",
     "shell.execute_reply.started": "2024-12-06T00:31:50.946875Z"
    }
   },
   "outputs": [],
   "source": [
    "def normalize_dataframe(df):\n",
    "    default_cols = ['weight'] + list(set(df.columns).intersection(['direction'])) + ['misc_properties']\n",
    "    cols = list(set(df.columns).difference(default_cols))\n",
    "    dfdict = df[cols].T.to_dict()\n",
    "    newdf = df[default_cols]\n",
    "    for uid in newdf.index:\n",
    "        newdf.at[uid,\"misc_properties\"].update(dfdict[uid])\n",
    "    return newdf\n",
    "                          \n",
    "def to_hif(hg):\n",
    "    hyp_objs = ['nodes','edges','incidences']\n",
    "    defaults = {part:dict(getattr(hg,part).property_store._defaults) for part in hyp_objs}\n",
    "    for part in hyp_objs:\n",
    "        misc_properties = defaults[part].pop('misc_properties',{})\n",
    "        defaults[part]['attrs'] = dict(misc_properties)\n",
    "    \n",
    "    incj = deepcopy(hg.incidences.to_dataframe)\n",
    "    incj.index.names = ['edge','node']\n",
    "    incj = normalize_dataframe(incj)\n",
    "    incj = incj.rename(columns={\"misc_properties\":\"attrs\"})\n",
    "    incj = incj.reset_index().to_dict(orient=\"records\")\n",
    "    \n",
    "    edgj = deepcopy(hg.edges.to_dataframe)\n",
    "    edgj.index.names = ['edge']\n",
    "    edgj = normalize_dataframe(edgj)\n",
    "    edgj = edgj.rename(columns={\"misc_properties\":\"attrs\"})\n",
    "    edgj = edgj.reset_index().to_dict(orient=\"records\")\n",
    "    \n",
    "    nodj = deepcopy(hg.nodes.to_dataframe)\n",
    "    nodj.index.names = ['node']\n",
    "    nodj = normalize_dataframe(nodj)\n",
    "    nodj = nodj.rename(columns={\"misc_properties\":\"attrs\"})\n",
    "    nodj = nodj.reset_index().to_dict(orient=\"records\")\n",
    "    \n",
    "    return {\"edges\": edgj, \"nodes\": nodj, \"incidences\": incj, \"metadata\":{'default_attrs':defaults}}\n",
    "\n",
    "\n",
    "def from_hif(hif):\n",
    "    mkdd = lambda : {'weight':1, 'attrs':{}}\n",
    "    hifex = deepcopy(hif)\n",
    "    parts = {part:deepcopy(pd.DataFrame(hifex[part])) for part in ['nodes','edges','incidences']}    \n",
    "    defaults = hifex.get('metadata',{}).get('default_attrs',{})\n",
    "    defaults = {part: defaults.get(part,mkdd()) for part in parts}\n",
    "    cols = dict()\n",
    "    default_weights = {part:defaults[part].get('weight',1) for part in parts}\n",
    "    for part in parts:\n",
    "        thispart = parts[part]\n",
    "        d = deepcopy(defaults[part])\n",
    "        dkeys = [k for k in d.keys() if k not in ['weight','attrs']]\n",
    "        cols[part] = ['weight'] + dkeys + ['attrs']\n",
    "        for attr in dkeys:\n",
    "            thispart[attr] = [row.attrs.pop(attr,d[attr]) for row in thispart.itertuples()]\n",
    "    nodeprops = parts['nodes'][['node'] + cols['nodes']]\n",
    "    edgeprops = parts['edges'][['edge'] + cols['edges']]\n",
    "    incidences = parts['incidences'][['edge','node'] + cols['incidences']]\n",
    "                \n",
    "    return hnx.Hypergraph(incidences, default_cell_weight=default_weights['incidences'],\n",
    "                          misc_cell_properties_col='attrs',\n",
    "                          node_properties=nodeprops, default_edge_weight=default_weights['edges'],\n",
    "                          edge_properties=edgeprops, default_node_weight=default_weights['nodes'],\n",
    "                          misc_properties_col='attrs'\n",
    "                          )"
   ]
  },
  {
   "cell_type": "code",
   "execution_count": 17,
   "id": "92d95a42-0d82-4377-a16d-e47dbb4d081d",
   "metadata": {
    "execution": {
     "iopub.execute_input": "2024-12-06T00:30:54.108965Z",
     "iopub.status.busy": "2024-12-06T00:30:54.108589Z",
     "iopub.status.idle": "2024-12-06T00:30:54.180737Z",
     "shell.execute_reply": "2024-12-06T00:30:54.180370Z",
     "shell.execute_reply.started": "2024-12-06T00:30:54.108941Z"
    }
   },
   "outputs": [],
   "source": [
    "# %%timeit #5.55 ms ± 101 µs per loop (mean ± std. dev. of 7 runs, 100 loops each)\n",
    "hif = to_hif(lm)\n",
    "try:\n",
    "    validator(hif)\n",
    "except Exception as e:\n",
    "    print(e)"
   ]
  },
  {
   "cell_type": "code",
   "execution_count": 20,
   "id": "3d02213b-3f14-4610-9d64-2474b1a0ae36",
   "metadata": {
    "execution": {
     "iopub.execute_input": "2024-12-06T00:31:54.864364Z",
     "iopub.status.busy": "2024-12-06T00:31:54.863986Z",
     "iopub.status.idle": "2024-12-06T00:31:54.886928Z",
     "shell.execute_reply": "2024-12-06T00:31:54.886180Z",
     "shell.execute_reply.started": "2024-12-06T00:31:54.864341Z"
    }
   },
   "outputs": [],
   "source": [
    "json.dump(hif, open(\"../examples/lesmis_hif.json\", \"w\"), allow_nan=False)"
   ]
  },
  {
   "cell_type": "markdown",
   "id": "a08aca51-8e46-49c2-8f7d-cfb05a03ed5b",
   "metadata": {},
   "source": [
    "## Simple Testing"
   ]
  },
  {
   "cell_type": "code",
   "execution_count": 21,
   "id": "5bc81969-7121-477f-9b74-dea75793d2b2",
   "metadata": {
    "execution": {
     "iopub.execute_input": "2024-12-06T00:32:04.005535Z",
     "iopub.status.busy": "2024-12-06T00:32:04.005202Z",
     "iopub.status.idle": "2024-12-06T00:32:04.039441Z",
     "shell.execute_reply": "2024-12-06T00:32:04.038789Z",
     "shell.execute_reply.started": "2024-12-06T00:32:04.005513Z"
    }
   },
   "outputs": [
    {
     "name": "stdout",
     "output_type": "stream",
     "text": [
      "data.network-type must be one of ['undirected', 'directed', 'asc']\n"
     ]
    },
    {
     "ename": "JsonSchemaValueException",
     "evalue": "data.network-type must be one of ['undirected', 'directed', 'asc']",
     "output_type": "error",
     "traceback": [
      "\u001b[0;31m---------------------------------------------------------------------------\u001b[0m",
      "\u001b[0;31mJsonSchemaValueException\u001b[0m                  Traceback (most recent call last)",
      "Cell \u001b[0;32mIn[21], line 9\u001b[0m\n\u001b[1;32m      7\u001b[0m \u001b[38;5;28;01mexcept\u001b[39;00m \u001b[38;5;167;01mException\u001b[39;00m \u001b[38;5;28;01mas\u001b[39;00m e:\n\u001b[1;32m      8\u001b[0m     \u001b[38;5;28mprint\u001b[39m(e)\n\u001b[0;32m----> 9\u001b[0m \u001b[43mvalidator\u001b[49m\u001b[43m(\u001b[49m\u001b[43mhiftest\u001b[49m\u001b[43m)\u001b[49m;\n",
      "File \u001b[0;32m<string>:16\u001b[0m, in \u001b[0;36mvalidate_https___raw_githubusercontent_com_pszufe_hif_validators_main_schemas_hif_schema_v0_1_0_json\u001b[0;34m(data, custom_formats, name_prefix)\u001b[0m\n",
      "\u001b[0;31mJsonSchemaValueException\u001b[0m: data.network-type must be one of ['undirected', 'directed', 'asc']"
     ]
    }
   ],
   "source": [
    "from copy import deepcopy\n",
    "\n",
    "hiftest = deepcopy(hif)\n",
    "hiftest[\"network-type\"] = \"ordered\"\n",
    "try:\n",
    "    validator(hiftest)\n",
    "except Exception as e:\n",
    "    print(e)\n",
    "validator(hiftest);"
   ]
  },
  {
   "cell_type": "code",
   "execution_count": 22,
   "id": "a32db09d-d89f-4d00-847c-a358273063dc",
   "metadata": {
    "execution": {
     "iopub.execute_input": "2024-12-06T00:32:18.906185Z",
     "iopub.status.busy": "2024-12-06T00:32:18.905784Z",
     "iopub.status.idle": "2024-12-06T00:32:18.947922Z",
     "shell.execute_reply": "2024-12-06T00:32:18.947553Z",
     "shell.execute_reply.started": "2024-12-06T00:32:18.906162Z"
    }
   },
   "outputs": [],
   "source": [
    "# %%timeit #9.99 ms ± 219 µs per loop (mean ± std. dev. of 7 runs, 100 loops each)\n",
    "h = from_hif(hif)"
   ]
  },
  {
   "cell_type": "code",
   "execution_count": 24,
   "id": "abab89a1-f96e-4bf7-b09d-56b738a021c9",
   "metadata": {
    "execution": {
     "iopub.execute_input": "2024-12-06T00:32:26.173740Z",
     "iopub.status.busy": "2024-12-06T00:32:26.173360Z",
     "iopub.status.idle": "2024-12-06T00:32:26.188321Z",
     "shell.execute_reply": "2024-12-06T00:32:26.187385Z",
     "shell.execute_reply.started": "2024-12-06T00:32:26.173715Z"
    }
   },
   "outputs": [
    {
     "data": {
      "text/html": [
       "<div>\n",
       "<style scoped>\n",
       "    .dataframe tbody tr th:only-of-type {\n",
       "        vertical-align: middle;\n",
       "    }\n",
       "\n",
       "    .dataframe tbody tr th {\n",
       "        vertical-align: top;\n",
       "    }\n",
       "\n",
       "    .dataframe thead th {\n",
       "        text-align: right;\n",
       "    }\n",
       "</style>\n",
       "<table border=\"1\" class=\"dataframe\">\n",
       "  <thead>\n",
       "    <tr style=\"text-align: right;\">\n",
       "      <th></th>\n",
       "      <th>weight</th>\n",
       "      <th>FullName</th>\n",
       "      <th>Description</th>\n",
       "      <th>misc_properties</th>\n",
       "    </tr>\n",
       "    <tr>\n",
       "      <th>uid</th>\n",
       "      <th></th>\n",
       "      <th></th>\n",
       "      <th></th>\n",
       "      <th></th>\n",
       "    </tr>\n",
       "  </thead>\n",
       "  <tbody>\n",
       "    <tr>\n",
       "      <th>MY</th>\n",
       "      <td>0.45</td>\n",
       "      <td>Monsieur Charles Fran\\c{c}ois Bienvenu Myriel</td>\n",
       "      <td>Bishop of D--</td>\n",
       "      <td>{'avocation': 'to be kind'}</td>\n",
       "    </tr>\n",
       "    <tr>\n",
       "      <th>NP</th>\n",
       "      <td>0.95</td>\n",
       "      <td>Napoleon</td>\n",
       "      <td>Emperor of France</td>\n",
       "      <td>{}</td>\n",
       "    </tr>\n",
       "    <tr>\n",
       "      <th>MB</th>\n",
       "      <td>0.40</td>\n",
       "      <td>Mademoiselle Baptistine</td>\n",
       "      <td>sister of MY</td>\n",
       "      <td>{}</td>\n",
       "    </tr>\n",
       "    <tr>\n",
       "      <th>ME</th>\n",
       "      <td>0.42</td>\n",
       "      <td>Madame Magloire</td>\n",
       "      <td>housekeeper to MY</td>\n",
       "      <td>{}</td>\n",
       "    </tr>\n",
       "    <tr>\n",
       "      <th>CL</th>\n",
       "      <td>0.71</td>\n",
       "      <td>Countess de Lô</td>\n",
       "      <td>distant relative of MY</td>\n",
       "      <td>{}</td>\n",
       "    </tr>\n",
       "  </tbody>\n",
       "</table>\n",
       "</div>"
      ],
      "text/plain": [
       "     weight                                       FullName  \\\n",
       "uid                                                          \n",
       "MY     0.45  Monsieur Charles Fran\\c{c}ois Bienvenu Myriel   \n",
       "NP     0.95                                       Napoleon   \n",
       "MB     0.40                        Mademoiselle Baptistine   \n",
       "ME     0.42                                Madame Magloire   \n",
       "CL     0.71                                 Countess de Lô   \n",
       "\n",
       "                 Description              misc_properties  \n",
       "uid                                                        \n",
       "MY             Bishop of D--  {'avocation': 'to be kind'}  \n",
       "NP         Emperor of France                           {}  \n",
       "MB              sister of MY                           {}  \n",
       "ME         housekeeper to MY                           {}  \n",
       "CL    distant relative of MY                           {}  "
      ]
     },
     "execution_count": 24,
     "metadata": {},
     "output_type": "execute_result"
    }
   ],
   "source": [
    "h.nodes.dataframe[:5]"
   ]
  },
  {
   "cell_type": "markdown",
   "id": "96eb741b-fd6c-4ae8-b5ad-ae4ff4689548",
   "metadata": {},
   "source": [
    "## Hypergraph Examples"
   ]
  },
  {
   "cell_type": "markdown",
   "id": "d323e722-c0d8-4153-8059-da1535d7f63b",
   "metadata": {
    "execution": {
     "iopub.execute_input": "2024-08-05T23:42:12.703439Z",
     "iopub.status.busy": "2024-08-05T23:42:12.702557Z",
     "iopub.status.idle": "2024-08-05T23:42:12.706773Z",
     "shell.execute_reply": "2024-08-05T23:42:12.706110Z",
     "shell.execute_reply.started": "2024-08-05T23:42:12.703415Z"
    }
   },
   "source": [
    "### contacts-high-school"
   ]
  },
  {
   "cell_type": "code",
   "execution_count": 25,
   "id": "c38f5920-47b6-40e3-9e25-7f58975df574",
   "metadata": {
    "execution": {
     "iopub.execute_input": "2024-12-06T00:32:33.470007Z",
     "iopub.status.busy": "2024-12-06T00:32:33.469670Z",
     "iopub.status.idle": "2024-12-06T00:32:33.738769Z",
     "shell.execute_reply": "2024-12-06T00:32:33.738481Z",
     "shell.execute_reply.started": "2024-12-06T00:32:33.469985Z"
    }
   },
   "outputs": [],
   "source": [
    "hs = json.load(open(f\"../examples/contacts-high-school.json\", \"r\"))"
   ]
  },
  {
   "cell_type": "code",
   "execution_count": 26,
   "id": "1a660f35-a8c9-4916-b742-69b3038e9f41",
   "metadata": {
    "execution": {
     "iopub.execute_input": "2024-12-06T00:32:34.439507Z",
     "iopub.status.busy": "2024-12-06T00:32:34.438850Z",
     "iopub.status.idle": "2024-12-06T00:32:34.444561Z",
     "shell.execute_reply": "2024-12-06T00:32:34.443791Z",
     "shell.execute_reply.started": "2024-12-06T00:32:34.439479Z"
    }
   },
   "outputs": [
    {
     "data": {
      "text/plain": [
       "dict_keys(['nodes', 'hyperedges'])"
      ]
     },
     "execution_count": 26,
     "metadata": {},
     "output_type": "execute_result"
    }
   ],
   "source": [
    "hs.keys()"
   ]
  },
  {
   "cell_type": "code",
   "execution_count": 27,
   "id": "8fce5598-c192-4ad2-a4a7-ba09967d8285",
   "metadata": {
    "execution": {
     "iopub.execute_input": "2024-12-06T00:32:35.513957Z",
     "iopub.status.busy": "2024-12-06T00:32:35.513584Z",
     "iopub.status.idle": "2024-12-06T00:32:35.519538Z",
     "shell.execute_reply": "2024-12-06T00:32:35.518933Z",
     "shell.execute_reply.started": "2024-12-06T00:32:35.513933Z"
    }
   },
   "outputs": [
    {
     "data": {
      "text/plain": [
       "[{'interaction': [454, 640], 'time': 1385982020},\n",
       " {'interaction': [1, 939], 'time': 1385982020},\n",
       " {'interaction': [185, 258], 'time': 1385982020},\n",
       " {'interaction': [9, 45], 'time': 1385982020},\n",
       " {'interaction': [9, 453], 'time': 1385982020}]"
      ]
     },
     "execution_count": 27,
     "metadata": {},
     "output_type": "execute_result"
    }
   ],
   "source": [
    "hs[\"hyperedges\"][:5]"
   ]
  },
  {
   "cell_type": "code",
   "execution_count": 28,
   "id": "26abab48-2080-4fb6-b192-66ff7b6c7609",
   "metadata": {
    "execution": {
     "iopub.execute_input": "2024-12-06T00:32:37.861526Z",
     "iopub.status.busy": "2024-12-06T00:32:37.860889Z",
     "iopub.status.idle": "2024-12-06T00:32:37.867692Z",
     "shell.execute_reply": "2024-12-06T00:32:37.866445Z",
     "shell.execute_reply.started": "2024-12-06T00:32:37.861499Z"
    },
    "scrolled": true
   },
   "outputs": [
    {
     "data": {
      "text/plain": [
       "[{'class': 'MP',\n",
       "  'id': 454,\n",
       "  'has_facebook': True,\n",
       "  'has_compiled_questionnaire': False,\n",
       "  'facebook_friends': [34, 151, 156, 159, 866, 640, 1232],\n",
       "  'sex': 'F'},\n",
       " {'class': 'MP',\n",
       "  'id': 640,\n",
       "  'has_facebook': True,\n",
       "  'has_compiled_questionnaire': False,\n",
       "  'facebook_friends': [151, 159, 454],\n",
       "  'sex': 'M'}]"
      ]
     },
     "execution_count": 28,
     "metadata": {},
     "output_type": "execute_result"
    }
   ],
   "source": [
    "hs[\"nodes\"][:2]"
   ]
  },
  {
   "cell_type": "code",
   "execution_count": 29,
   "id": "d6f30c77-dadd-4ab5-9a9a-bad8daa537c0",
   "metadata": {
    "execution": {
     "iopub.execute_input": "2024-12-06T00:34:13.894226Z",
     "iopub.status.busy": "2024-12-06T00:34:13.893827Z",
     "iopub.status.idle": "2024-12-06T00:34:14.202544Z",
     "shell.execute_reply": "2024-12-06T00:34:14.202221Z",
     "shell.execute_reply.started": "2024-12-06T00:34:13.894196Z"
    }
   },
   "outputs": [],
   "source": [
    "df = pd.DataFrame(hs[\"hyperedges\"]).fillna(\"\")\n",
    "df[\"edge\"] = df.interaction.map(lambda x: x[0])\n",
    "df[\"node\"] = df.interaction.map(lambda x: x[1])\n",
    "df = df[[\"edge\", \"node\", \"time\"]]\n",
    "\n",
    "nodedf = pd.DataFrame(hs[\"nodes\"])\n",
    "nodedf = nodedf.set_index(\"id\").reset_index().fillna(\"\")\n",
    "\n",
    "hshyp = hnx.Hypergraph(df, node_properties=nodedf)"
   ]
  },
  {
   "cell_type": "code",
   "execution_count": 30,
   "id": "cc1b1334-ee10-4dcd-9d66-924c8688ba66",
   "metadata": {
    "execution": {
     "iopub.execute_input": "2024-12-06T00:34:15.413164Z",
     "iopub.status.busy": "2024-12-06T00:34:15.412684Z",
     "iopub.status.idle": "2024-12-06T00:34:15.448037Z",
     "shell.execute_reply": "2024-12-06T00:34:15.447602Z",
     "shell.execute_reply.started": "2024-12-06T00:34:15.413140Z"
    }
   },
   "outputs": [
    {
     "data": {
      "text/html": [
       "<div>\n",
       "<style scoped>\n",
       "    .dataframe tbody tr th:only-of-type {\n",
       "        vertical-align: middle;\n",
       "    }\n",
       "\n",
       "    .dataframe tbody tr th {\n",
       "        vertical-align: top;\n",
       "    }\n",
       "\n",
       "    .dataframe thead th {\n",
       "        text-align: right;\n",
       "    }\n",
       "</style>\n",
       "<table border=\"1\" class=\"dataframe\">\n",
       "  <thead>\n",
       "    <tr style=\"text-align: right;\">\n",
       "      <th></th>\n",
       "      <th>edges</th>\n",
       "      <th>nodes</th>\n",
       "      <th>weight</th>\n",
       "      <th>time</th>\n",
       "      <th>misc_properties</th>\n",
       "    </tr>\n",
       "  </thead>\n",
       "  <tbody>\n",
       "    <tr>\n",
       "      <th>0</th>\n",
       "      <td>454</td>\n",
       "      <td>640</td>\n",
       "      <td>1</td>\n",
       "      <td>1385982020</td>\n",
       "      <td>{}</td>\n",
       "    </tr>\n",
       "    <tr>\n",
       "      <th>1</th>\n",
       "      <td>1</td>\n",
       "      <td>939</td>\n",
       "      <td>1</td>\n",
       "      <td>1385982020</td>\n",
       "      <td>{}</td>\n",
       "    </tr>\n",
       "    <tr>\n",
       "      <th>2</th>\n",
       "      <td>185</td>\n",
       "      <td>258</td>\n",
       "      <td>1</td>\n",
       "      <td>1385982020</td>\n",
       "      <td>{}</td>\n",
       "    </tr>\n",
       "    <tr>\n",
       "      <th>3</th>\n",
       "      <td>9</td>\n",
       "      <td>45</td>\n",
       "      <td>1</td>\n",
       "      <td>1385982020</td>\n",
       "      <td>{}</td>\n",
       "    </tr>\n",
       "    <tr>\n",
       "      <th>4</th>\n",
       "      <td>9</td>\n",
       "      <td>453</td>\n",
       "      <td>1</td>\n",
       "      <td>1385982020</td>\n",
       "      <td>{}</td>\n",
       "    </tr>\n",
       "    <tr>\n",
       "      <th>...</th>\n",
       "      <td>...</td>\n",
       "      <td>...</td>\n",
       "      <td>...</td>\n",
       "      <td>...</td>\n",
       "      <td>...</td>\n",
       "    </tr>\n",
       "    <tr>\n",
       "      <th>5584</th>\n",
       "      <td>232</td>\n",
       "      <td>311</td>\n",
       "      <td>1</td>\n",
       "      <td>1386343520</td>\n",
       "      <td>{}</td>\n",
       "    </tr>\n",
       "    <tr>\n",
       "      <th>5585</th>\n",
       "      <td>46</td>\n",
       "      <td>306</td>\n",
       "      <td>1</td>\n",
       "      <td>1386343520</td>\n",
       "      <td>{}</td>\n",
       "    </tr>\n",
       "    <tr>\n",
       "      <th>5586</th>\n",
       "      <td>306</td>\n",
       "      <td>471</td>\n",
       "      <td>1</td>\n",
       "      <td>1386343540</td>\n",
       "      <td>{}</td>\n",
       "    </tr>\n",
       "    <tr>\n",
       "      <th>5587</th>\n",
       "      <td>836</td>\n",
       "      <td>1339</td>\n",
       "      <td>1</td>\n",
       "      <td>1386343740</td>\n",
       "      <td>{}</td>\n",
       "    </tr>\n",
       "    <tr>\n",
       "      <th>5588</th>\n",
       "      <td>9</td>\n",
       "      <td>120</td>\n",
       "      <td>1</td>\n",
       "      <td>1386345260</td>\n",
       "      <td>{}</td>\n",
       "    </tr>\n",
       "  </tbody>\n",
       "</table>\n",
       "<p>5589 rows × 5 columns</p>\n",
       "</div>"
      ],
      "text/plain": [
       "      edges  nodes  weight        time misc_properties\n",
       "0       454    640       1  1385982020              {}\n",
       "1         1    939       1  1385982020              {}\n",
       "2       185    258       1  1385982020              {}\n",
       "3         9     45       1  1385982020              {}\n",
       "4         9    453       1  1385982020              {}\n",
       "...     ...    ...     ...         ...             ...\n",
       "5584    232    311       1  1386343520              {}\n",
       "5585     46    306       1  1386343520              {}\n",
       "5586    306    471       1  1386343540              {}\n",
       "5587    836   1339       1  1386343740              {}\n",
       "5588      9    120       1  1386345260              {}\n",
       "\n",
       "[5589 rows x 5 columns]"
      ]
     },
     "execution_count": 30,
     "metadata": {},
     "output_type": "execute_result"
    }
   ],
   "source": [
    "hshyp.dataframe"
   ]
  },
  {
   "cell_type": "code",
   "execution_count": 31,
   "id": "c128fc46-9834-4d84-9be9-e168640357df",
   "metadata": {
    "execution": {
     "iopub.execute_input": "2024-12-06T00:34:19.092410Z",
     "iopub.status.busy": "2024-12-06T00:34:19.092009Z",
     "iopub.status.idle": "2024-12-06T00:34:19.113804Z",
     "shell.execute_reply": "2024-12-06T00:34:19.113202Z",
     "shell.execute_reply.started": "2024-12-06T00:34:19.092385Z"
    }
   },
   "outputs": [
    {
     "data": {
      "text/html": [
       "<div>\n",
       "<style scoped>\n",
       "    .dataframe tbody tr th:only-of-type {\n",
       "        vertical-align: middle;\n",
       "    }\n",
       "\n",
       "    .dataframe tbody tr th {\n",
       "        vertical-align: top;\n",
       "    }\n",
       "\n",
       "    .dataframe thead th {\n",
       "        text-align: right;\n",
       "    }\n",
       "</style>\n",
       "<table border=\"1\" class=\"dataframe\">\n",
       "  <thead>\n",
       "    <tr style=\"text-align: right;\">\n",
       "      <th></th>\n",
       "      <th>weight</th>\n",
       "      <th>class</th>\n",
       "      <th>has_facebook</th>\n",
       "      <th>has_compiled_questionnaire</th>\n",
       "      <th>facebook_friends</th>\n",
       "      <th>sex</th>\n",
       "      <th>questionnaire_friends</th>\n",
       "      <th>misc_properties</th>\n",
       "    </tr>\n",
       "    <tr>\n",
       "      <th>uid</th>\n",
       "      <th></th>\n",
       "      <th></th>\n",
       "      <th></th>\n",
       "      <th></th>\n",
       "      <th></th>\n",
       "      <th></th>\n",
       "      <th></th>\n",
       "      <th></th>\n",
       "    </tr>\n",
       "  </thead>\n",
       "  <tbody>\n",
       "    <tr>\n",
       "      <th>640</th>\n",
       "      <td>1</td>\n",
       "      <td>MP</td>\n",
       "      <td>True</td>\n",
       "      <td>False</td>\n",
       "      <td>[151, 159, 454]</td>\n",
       "      <td>M</td>\n",
       "      <td></td>\n",
       "      <td>{}</td>\n",
       "    </tr>\n",
       "    <tr>\n",
       "      <th>939</th>\n",
       "      <td>1</td>\n",
       "      <td>2BIO3</td>\n",
       "      <td>True</td>\n",
       "      <td>False</td>\n",
       "      <td>[1, 55, 101, 106, 117, 119, 122, 132, 156, 170...</td>\n",
       "      <td>M</td>\n",
       "      <td></td>\n",
       "      <td>{}</td>\n",
       "    </tr>\n",
       "    <tr>\n",
       "      <th>258</th>\n",
       "      <td>1</td>\n",
       "      <td>PC*</td>\n",
       "      <td>False</td>\n",
       "      <td>False</td>\n",
       "      <td></td>\n",
       "      <td>F</td>\n",
       "      <td></td>\n",
       "      <td>{}</td>\n",
       "    </tr>\n",
       "    <tr>\n",
       "      <th>45</th>\n",
       "      <td>1</td>\n",
       "      <td>PC</td>\n",
       "      <td>False</td>\n",
       "      <td>True</td>\n",
       "      <td></td>\n",
       "      <td>F</td>\n",
       "      <td>[79, 335, 496, 601, 674, 765]</td>\n",
       "      <td>{}</td>\n",
       "    </tr>\n",
       "    <tr>\n",
       "      <th>453</th>\n",
       "      <td>1</td>\n",
       "      <td>PC</td>\n",
       "      <td>False</td>\n",
       "      <td>False</td>\n",
       "      <td></td>\n",
       "      <td>M</td>\n",
       "      <td></td>\n",
       "      <td>{}</td>\n",
       "    </tr>\n",
       "    <tr>\n",
       "      <th>...</th>\n",
       "      <td>...</td>\n",
       "      <td>...</td>\n",
       "      <td>...</td>\n",
       "      <td>...</td>\n",
       "      <td>...</td>\n",
       "      <td>...</td>\n",
       "      <td>...</td>\n",
       "      <td>...</td>\n",
       "    </tr>\n",
       "    <tr>\n",
       "      <th>445</th>\n",
       "      <td>1</td>\n",
       "      <td>MP*1</td>\n",
       "      <td>False</td>\n",
       "      <td>False</td>\n",
       "      <td></td>\n",
       "      <td>M</td>\n",
       "      <td></td>\n",
       "      <td>{}</td>\n",
       "    </tr>\n",
       "    <tr>\n",
       "      <th>15</th>\n",
       "      <td>1</td>\n",
       "      <td>PC</td>\n",
       "      <td>False</td>\n",
       "      <td>False</td>\n",
       "      <td></td>\n",
       "      <td>M</td>\n",
       "      <td></td>\n",
       "      <td>{}</td>\n",
       "    </tr>\n",
       "    <tr>\n",
       "      <th>46</th>\n",
       "      <td>1</td>\n",
       "      <td>2BIO2</td>\n",
       "      <td>False</td>\n",
       "      <td>True</td>\n",
       "      <td></td>\n",
       "      <td>F</td>\n",
       "      <td>[196, 257, 268]</td>\n",
       "      <td>{}</td>\n",
       "    </tr>\n",
       "    <tr>\n",
       "      <th>70</th>\n",
       "      <td>1</td>\n",
       "      <td>2BIO3</td>\n",
       "      <td>True</td>\n",
       "      <td>True</td>\n",
       "      <td>[119, 202, 545, 649, 425, 653, 122, 275, 132, ...</td>\n",
       "      <td>F</td>\n",
       "      <td>[132, 240, 425, 447]</td>\n",
       "      <td>{}</td>\n",
       "    </tr>\n",
       "    <tr>\n",
       "      <th>434</th>\n",
       "      <td>1</td>\n",
       "      <td>PSI*</td>\n",
       "      <td>False</td>\n",
       "      <td>False</td>\n",
       "      <td></td>\n",
       "      <td>F</td>\n",
       "      <td></td>\n",
       "      <td>{}</td>\n",
       "    </tr>\n",
       "  </tbody>\n",
       "</table>\n",
       "<p>317 rows × 8 columns</p>\n",
       "</div>"
      ],
      "text/plain": [
       "     weight  class  has_facebook  has_compiled_questionnaire  \\\n",
       "uid                                                            \n",
       "640       1     MP          True                       False   \n",
       "939       1  2BIO3          True                       False   \n",
       "258       1    PC*         False                       False   \n",
       "45        1     PC         False                        True   \n",
       "453       1     PC         False                       False   \n",
       "..      ...    ...           ...                         ...   \n",
       "445       1   MP*1         False                       False   \n",
       "15        1     PC         False                       False   \n",
       "46        1  2BIO2         False                        True   \n",
       "70        1  2BIO3          True                        True   \n",
       "434       1   PSI*         False                       False   \n",
       "\n",
       "                                      facebook_friends sex  \\\n",
       "uid                                                          \n",
       "640                                    [151, 159, 454]   M   \n",
       "939  [1, 55, 101, 106, 117, 119, 122, 132, 156, 170...   M   \n",
       "258                                                      F   \n",
       "45                                                       F   \n",
       "453                                                      M   \n",
       "..                                                 ...  ..   \n",
       "445                                                      M   \n",
       "15                                                       M   \n",
       "46                                                       F   \n",
       "70   [119, 202, 545, 649, 425, 653, 122, 275, 132, ...   F   \n",
       "434                                                      F   \n",
       "\n",
       "             questionnaire_friends misc_properties  \n",
       "uid                                                 \n",
       "640                                             {}  \n",
       "939                                             {}  \n",
       "258                                             {}  \n",
       "45   [79, 335, 496, 601, 674, 765]              {}  \n",
       "453                                             {}  \n",
       "..                             ...             ...  \n",
       "445                                             {}  \n",
       "15                                              {}  \n",
       "46                 [196, 257, 268]              {}  \n",
       "70            [132, 240, 425, 447]              {}  \n",
       "434                                             {}  \n",
       "\n",
       "[317 rows x 8 columns]"
      ]
     },
     "execution_count": 31,
     "metadata": {},
     "output_type": "execute_result"
    }
   ],
   "source": [
    "hshyp.nodes.dataframe"
   ]
  },
  {
   "cell_type": "code",
   "execution_count": 32,
   "id": "0dc10eba-82ab-4eb9-b776-5a1b390a96d5",
   "metadata": {
    "execution": {
     "iopub.execute_input": "2024-12-06T00:34:23.155421Z",
     "iopub.status.busy": "2024-12-06T00:34:23.154987Z",
     "iopub.status.idle": "2024-12-06T00:34:23.162165Z",
     "shell.execute_reply": "2024-12-06T00:34:23.161632Z",
     "shell.execute_reply.started": "2024-12-06T00:34:23.155394Z"
    }
   },
   "outputs": [
    {
     "data": {
      "text/plain": [
       "{'nrows': 317,\n",
       " 'ncols': 319,\n",
       " 'aspect ratio': 0.9937304075235109,\n",
       " 'ncells': 5589,\n",
       " 'density': 0.05526932547491668}"
      ]
     },
     "execution_count": 32,
     "metadata": {},
     "output_type": "execute_result"
    }
   ],
   "source": [
    "hnx.info_dict(hshyp)"
   ]
  },
  {
   "cell_type": "code",
   "execution_count": 33,
   "id": "594468de-158a-4ee3-bf8b-f97309841eea",
   "metadata": {
    "execution": {
     "iopub.execute_input": "2024-12-06T00:34:25.665154Z",
     "iopub.status.busy": "2024-12-06T00:34:25.664489Z",
     "iopub.status.idle": "2024-12-06T00:34:25.923542Z",
     "shell.execute_reply": "2024-12-06T00:34:25.923245Z",
     "shell.execute_reply.started": "2024-12-06T00:34:25.665129Z"
    }
   },
   "outputs": [],
   "source": [
    "# %%timeit #18.1 ms ± 117 µs per loop (mean ± std. dev. of 7 runs, 100 loops each)\n",
    "hshif = to_hif(hshyp)"
   ]
  },
  {
   "cell_type": "code",
   "execution_count": 34,
   "id": "bd499d47-5e2b-4dc3-89f6-333ea03f374b",
   "metadata": {
    "execution": {
     "iopub.execute_input": "2024-12-06T00:34:29.109678Z",
     "iopub.status.busy": "2024-12-06T00:34:29.109052Z",
     "iopub.status.idle": "2024-12-06T00:34:29.130562Z",
     "shell.execute_reply": "2024-12-06T00:34:29.129305Z",
     "shell.execute_reply.started": "2024-12-06T00:34:29.109654Z"
    },
    "scrolled": true
   },
   "outputs": [],
   "source": [
    "try:\n",
    "    validator(hshif)\n",
    "except Exception as e:\n",
    "    print(e)"
   ]
  },
  {
   "cell_type": "code",
   "execution_count": 35,
   "id": "170322d2-28b8-4a8d-8b41-f2024ef5c74c",
   "metadata": {
    "execution": {
     "iopub.execute_input": "2024-12-06T00:34:31.524200Z",
     "iopub.status.busy": "2024-12-06T00:34:31.523513Z",
     "iopub.status.idle": "2024-12-06T00:34:31.605638Z",
     "shell.execute_reply": "2024-12-06T00:34:31.605322Z",
     "shell.execute_reply.started": "2024-12-06T00:34:31.524155Z"
    }
   },
   "outputs": [],
   "source": [
    "# %%timeit #26.2 ms ± 516 µs per loop (mean ± std. dev. of 7 runs, 10 loops each)\n",
    "newhshyp = from_hif(hshif)"
   ]
  },
  {
   "cell_type": "code",
   "execution_count": 36,
   "id": "bf78f350-9442-4cc9-9c23-2046c5d77482",
   "metadata": {
    "execution": {
     "iopub.execute_input": "2024-12-06T00:34:32.891881Z",
     "iopub.status.busy": "2024-12-06T00:34:32.891417Z",
     "iopub.status.idle": "2024-12-06T00:34:32.898072Z",
     "shell.execute_reply": "2024-12-06T00:34:32.897568Z",
     "shell.execute_reply.started": "2024-12-06T00:34:32.891853Z"
    }
   },
   "outputs": [
    {
     "data": {
      "text/plain": [
       "{'nrows': 317,\n",
       " 'ncols': 319,\n",
       " 'aspect ratio': 0.9937304075235109,\n",
       " 'ncells': 5589,\n",
       " 'density': 0.05526932547491668}"
      ]
     },
     "execution_count": 36,
     "metadata": {},
     "output_type": "execute_result"
    }
   ],
   "source": [
    "hnx.info_dict(newhshyp)"
   ]
  },
  {
   "cell_type": "code",
   "execution_count": 37,
   "id": "b0ca895f-32ca-4a5f-988c-384024d3faf3",
   "metadata": {
    "execution": {
     "iopub.execute_input": "2024-12-06T00:34:45.521273Z",
     "iopub.status.busy": "2024-12-06T00:34:45.520647Z",
     "iopub.status.idle": "2024-12-06T00:34:45.540862Z",
     "shell.execute_reply": "2024-12-06T00:34:45.540263Z",
     "shell.execute_reply.started": "2024-12-06T00:34:45.521247Z"
    }
   },
   "outputs": [],
   "source": [
    "assert hshyp == newhshyp  ## this checks that the structure is the same"
   ]
  },
  {
   "cell_type": "code",
   "execution_count": 38,
   "id": "dea72d4f-4a1d-4d41-b329-dead4e198666",
   "metadata": {
    "execution": {
     "iopub.execute_input": "2024-12-06T00:34:51.824353Z",
     "iopub.status.busy": "2024-12-06T00:34:51.823975Z",
     "iopub.status.idle": "2024-12-06T00:34:51.878781Z",
     "shell.execute_reply": "2024-12-06T00:34:51.878396Z",
     "shell.execute_reply.started": "2024-12-06T00:34:51.824331Z"
    }
   },
   "outputs": [],
   "source": [
    "json.dump(\n",
    "    hshif, open(\"../examples/contacts_high_school_hif.json\", \"w\"), allow_nan=False\n",
    ")"
   ]
  },
  {
   "cell_type": "code",
   "execution_count": 40,
   "id": "f09649b3-e22f-4057-9615-f796099e9c3f",
   "metadata": {
    "execution": {
     "iopub.execute_input": "2024-12-06T00:36:44.405442Z",
     "iopub.status.busy": "2024-12-06T00:36:44.404647Z",
     "iopub.status.idle": "2024-12-06T00:36:44.427727Z",
     "shell.execute_reply": "2024-12-06T00:36:44.427078Z",
     "shell.execute_reply.started": "2024-12-06T00:36:44.405395Z"
    }
   },
   "outputs": [
    {
     "data": {
      "text/html": [
       "<div>\n",
       "<style scoped>\n",
       "    .dataframe tbody tr th:only-of-type {\n",
       "        vertical-align: middle;\n",
       "    }\n",
       "\n",
       "    .dataframe tbody tr th {\n",
       "        vertical-align: top;\n",
       "    }\n",
       "\n",
       "    .dataframe thead th {\n",
       "        text-align: right;\n",
       "    }\n",
       "</style>\n",
       "<table border=\"1\" class=\"dataframe\">\n",
       "  <thead>\n",
       "    <tr style=\"text-align: right;\">\n",
       "      <th></th>\n",
       "      <th>weight</th>\n",
       "      <th>class</th>\n",
       "      <th>has_facebook</th>\n",
       "      <th>has_compiled_questionnaire</th>\n",
       "      <th>facebook_friends</th>\n",
       "      <th>sex</th>\n",
       "      <th>questionnaire_friends</th>\n",
       "      <th>misc_properties</th>\n",
       "    </tr>\n",
       "    <tr>\n",
       "      <th>uid</th>\n",
       "      <th></th>\n",
       "      <th></th>\n",
       "      <th></th>\n",
       "      <th></th>\n",
       "      <th></th>\n",
       "      <th></th>\n",
       "      <th></th>\n",
       "      <th></th>\n",
       "    </tr>\n",
       "  </thead>\n",
       "  <tbody>\n",
       "    <tr>\n",
       "      <th>640</th>\n",
       "      <td>1</td>\n",
       "      <td>MP</td>\n",
       "      <td>True</td>\n",
       "      <td>False</td>\n",
       "      <td>[151, 159, 454]</td>\n",
       "      <td>M</td>\n",
       "      <td></td>\n",
       "      <td>{}</td>\n",
       "    </tr>\n",
       "    <tr>\n",
       "      <th>939</th>\n",
       "      <td>1</td>\n",
       "      <td>2BIO3</td>\n",
       "      <td>True</td>\n",
       "      <td>False</td>\n",
       "      <td>[1, 55, 101, 106, 117, 119, 122, 132, 156, 170...</td>\n",
       "      <td>M</td>\n",
       "      <td></td>\n",
       "      <td>{}</td>\n",
       "    </tr>\n",
       "    <tr>\n",
       "      <th>258</th>\n",
       "      <td>1</td>\n",
       "      <td>PC*</td>\n",
       "      <td>False</td>\n",
       "      <td>False</td>\n",
       "      <td></td>\n",
       "      <td>F</td>\n",
       "      <td></td>\n",
       "      <td>{}</td>\n",
       "    </tr>\n",
       "    <tr>\n",
       "      <th>45</th>\n",
       "      <td>1</td>\n",
       "      <td>PC</td>\n",
       "      <td>False</td>\n",
       "      <td>True</td>\n",
       "      <td></td>\n",
       "      <td>F</td>\n",
       "      <td>[79, 335, 496, 601, 674, 765]</td>\n",
       "      <td>{}</td>\n",
       "    </tr>\n",
       "    <tr>\n",
       "      <th>453</th>\n",
       "      <td>1</td>\n",
       "      <td>PC</td>\n",
       "      <td>False</td>\n",
       "      <td>False</td>\n",
       "      <td></td>\n",
       "      <td>M</td>\n",
       "      <td></td>\n",
       "      <td>{}</td>\n",
       "    </tr>\n",
       "    <tr>\n",
       "      <th>...</th>\n",
       "      <td>...</td>\n",
       "      <td>...</td>\n",
       "      <td>...</td>\n",
       "      <td>...</td>\n",
       "      <td>...</td>\n",
       "      <td>...</td>\n",
       "      <td>...</td>\n",
       "      <td>...</td>\n",
       "    </tr>\n",
       "    <tr>\n",
       "      <th>445</th>\n",
       "      <td>1</td>\n",
       "      <td>MP*1</td>\n",
       "      <td>False</td>\n",
       "      <td>False</td>\n",
       "      <td></td>\n",
       "      <td>M</td>\n",
       "      <td></td>\n",
       "      <td>{}</td>\n",
       "    </tr>\n",
       "    <tr>\n",
       "      <th>15</th>\n",
       "      <td>1</td>\n",
       "      <td>PC</td>\n",
       "      <td>False</td>\n",
       "      <td>False</td>\n",
       "      <td></td>\n",
       "      <td>M</td>\n",
       "      <td></td>\n",
       "      <td>{}</td>\n",
       "    </tr>\n",
       "    <tr>\n",
       "      <th>46</th>\n",
       "      <td>1</td>\n",
       "      <td>2BIO2</td>\n",
       "      <td>False</td>\n",
       "      <td>True</td>\n",
       "      <td></td>\n",
       "      <td>F</td>\n",
       "      <td>[196, 257, 268]</td>\n",
       "      <td>{}</td>\n",
       "    </tr>\n",
       "    <tr>\n",
       "      <th>70</th>\n",
       "      <td>1</td>\n",
       "      <td>2BIO3</td>\n",
       "      <td>True</td>\n",
       "      <td>True</td>\n",
       "      <td>[119, 202, 545, 649, 425, 653, 122, 275, 132, ...</td>\n",
       "      <td>F</td>\n",
       "      <td>[132, 240, 425, 447]</td>\n",
       "      <td>{}</td>\n",
       "    </tr>\n",
       "    <tr>\n",
       "      <th>434</th>\n",
       "      <td>1</td>\n",
       "      <td>PSI*</td>\n",
       "      <td>False</td>\n",
       "      <td>False</td>\n",
       "      <td></td>\n",
       "      <td>F</td>\n",
       "      <td></td>\n",
       "      <td>{}</td>\n",
       "    </tr>\n",
       "  </tbody>\n",
       "</table>\n",
       "<p>317 rows × 8 columns</p>\n",
       "</div>"
      ],
      "text/plain": [
       "     weight  class  has_facebook  has_compiled_questionnaire  \\\n",
       "uid                                                            \n",
       "640       1     MP          True                       False   \n",
       "939       1  2BIO3          True                       False   \n",
       "258       1    PC*         False                       False   \n",
       "45        1     PC         False                        True   \n",
       "453       1     PC         False                       False   \n",
       "..      ...    ...           ...                         ...   \n",
       "445       1   MP*1         False                       False   \n",
       "15        1     PC         False                       False   \n",
       "46        1  2BIO2         False                        True   \n",
       "70        1  2BIO3          True                        True   \n",
       "434       1   PSI*         False                       False   \n",
       "\n",
       "                                      facebook_friends sex  \\\n",
       "uid                                                          \n",
       "640                                    [151, 159, 454]   M   \n",
       "939  [1, 55, 101, 106, 117, 119, 122, 132, 156, 170...   M   \n",
       "258                                                      F   \n",
       "45                                                       F   \n",
       "453                                                      M   \n",
       "..                                                 ...  ..   \n",
       "445                                                      M   \n",
       "15                                                       M   \n",
       "46                                                       F   \n",
       "70   [119, 202, 545, 649, 425, 653, 122, 275, 132, ...   F   \n",
       "434                                                      F   \n",
       "\n",
       "             questionnaire_friends misc_properties  \n",
       "uid                                                 \n",
       "640                                             {}  \n",
       "939                                             {}  \n",
       "258                                             {}  \n",
       "45   [79, 335, 496, 601, 674, 765]              {}  \n",
       "453                                             {}  \n",
       "..                             ...             ...  \n",
       "445                                             {}  \n",
       "15                                              {}  \n",
       "46                 [196, 257, 268]              {}  \n",
       "70            [132, 240, 425, 447]              {}  \n",
       "434                                             {}  \n",
       "\n",
       "[317 rows x 8 columns]"
      ]
     },
     "execution_count": 40,
     "metadata": {},
     "output_type": "execute_result"
    }
   ],
   "source": [
    "newhshyp.nodes.dataframe"
   ]
  },
  {
   "cell_type": "code",
   "execution_count": null,
   "id": "9c5abd37-1ddd-49e2-b590-51f8c8dcc5c9",
   "metadata": {},
   "outputs": [],
   "source": []
  }
 ],
 "metadata": {
  "kernelspec": {
   "display_name": "Python 3 (ipykernel)",
   "language": "python",
   "name": "python3"
  },
  "language_info": {
   "codemirror_mode": {
    "name": "ipython",
    "version": 3
   },
   "file_extension": ".py",
   "mimetype": "text/x-python",
   "name": "python",
   "nbconvert_exporter": "python",
   "pygments_lexer": "ipython3",
   "version": "3.11.8"
  }
 },
 "nbformat": 4,
 "nbformat_minor": 5
}
