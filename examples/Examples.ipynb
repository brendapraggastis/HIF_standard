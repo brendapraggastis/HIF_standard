{
 "cells": [
  {
   "cell_type": "markdown",
   "metadata": {},
   "source": [
    "# Generate hif format for example datasets\n",
    "\n",
    "Here we illustrate examples of HIF formatted json objects using datasets available from HNX and XGI."
   ]
  },
  {
   "cell_type": "code",
   "execution_count": 1,
   "metadata": {
    "execution": {
     "iopub.execute_input": "2024-11-04T23:01:05.792679Z",
     "iopub.status.busy": "2024-11-04T23:01:05.792559Z",
     "iopub.status.idle": "2024-11-04T23:01:11.482888Z",
     "shell.execute_reply": "2024-11-04T23:01:11.482508Z",
     "shell.execute_reply.started": "2024-11-04T23:01:05.792667Z"
    }
   },
   "outputs": [],
   "source": [
    "import hypernetx as hnx\n",
    "import pandas as pd\n",
    "import numpy as np\n",
    "import json\n",
    "import warnings\n",
    "import random\n",
    "\n",
    "import fastjsonschema"
   ]
  },
  {
   "cell_type": "code",
   "execution_count": 2,
   "metadata": {
    "execution": {
     "iopub.execute_input": "2024-11-04T23:01:11.485897Z",
     "iopub.status.busy": "2024-11-04T23:01:11.485661Z",
     "iopub.status.idle": "2024-11-04T23:01:11.487908Z",
     "shell.execute_reply": "2024-11-04T23:01:11.487559Z",
     "shell.execute_reply.started": "2024-11-04T23:01:11.485881Z"
    }
   },
   "outputs": [],
   "source": [
    "warnings.simplefilter('ignore')"
   ]
  },
  {
   "cell_type": "markdown",
   "metadata": {},
   "source": [
    "## Load schema and validator"
   ]
  },
  {
   "cell_type": "code",
   "execution_count": 3,
   "metadata": {
    "execution": {
     "iopub.execute_input": "2024-11-04T23:01:11.488756Z",
     "iopub.status.busy": "2024-11-04T23:01:11.488565Z",
     "iopub.status.idle": "2024-11-04T23:01:11.498205Z",
     "shell.execute_reply": "2024-11-04T23:01:11.497778Z",
     "shell.execute_reply.started": "2024-11-04T23:01:11.488741Z"
    }
   },
   "outputs": [],
   "source": [
    "schema = json.load(open('../schemas/hif_schema_v0.1.0.json','r'))\n",
    "validator = fastjsonschema.compile(schema)"
   ]
  },
  {
   "cell_type": "code",
   "execution_count": 4,
   "metadata": {
    "execution": {
     "iopub.execute_input": "2024-11-04T23:01:11.498964Z",
     "iopub.status.busy": "2024-11-04T23:01:11.498834Z",
     "iopub.status.idle": "2024-11-04T23:01:11.504865Z",
     "shell.execute_reply": "2024-11-04T23:01:11.504399Z",
     "shell.execute_reply.started": "2024-11-04T23:01:11.498949Z"
    }
   },
   "outputs": [
    {
     "data": {
      "text/plain": [
       "{'$schema': 'http://json-schema.org/draft-07/schema#',\n",
       " '$id': 'https://raw.githubusercontent.com/pszufe/HIF_validators/main/schemas/hif_schema_v0.1.0.json',\n",
       " 'title': 'Hypergraph Interchange Format v0.1.0',\n",
       " 'type': 'object',\n",
       " 'properties': {'network-type': {'enum': ['undirected', 'directed', 'asc']},\n",
       "  'metadata': {'type': 'object'},\n",
       "  'incidences': {'type': 'array',\n",
       "   'items': {'type': 'object',\n",
       "    'properties': {'edge': {'type': ['string', 'integer']},\n",
       "     'node': {'type': ['string', 'integer']},\n",
       "     'weight': {'type': 'number'},\n",
       "     'direction': {'enum': ['head', 'tail']},\n",
       "     'attrs': {'type': 'object'}},\n",
       "    'additionalProperties': {'type': ['string',\n",
       "      'integer',\n",
       "      'number',\n",
       "      'boolean']},\n",
       "    'unevaluatedProperties': False,\n",
       "    'required': ['edge', 'node']}},\n",
       "  'nodes': {'type': 'array',\n",
       "   'items': {'type': 'object',\n",
       "    'properties': {'node': {'type': ['string', 'integer']},\n",
       "     'weight': {'type': 'number'},\n",
       "     'attrs': {'type': 'object'}},\n",
       "    'additionalProperties': {'type': ['string',\n",
       "      'integer',\n",
       "      'number',\n",
       "      'boolean']},\n",
       "    'unevaluatedProperties': False,\n",
       "    'required': ['node']}},\n",
       "  'edges': {'type': 'array',\n",
       "   'items': {'type': 'object',\n",
       "    'properties': {'edge': {'type': ['string', 'integer']},\n",
       "     'weight': {'type': 'number'},\n",
       "     'attrs': {'type': 'object'}},\n",
       "    'additionalProperties': {'type': ['string',\n",
       "      'integer',\n",
       "      'number',\n",
       "      'boolean']},\n",
       "    'unevaluatedProperties': False,\n",
       "    'required': ['edge']}}},\n",
       " 'unevaluatedProperties': False,\n",
       " 'additionalProperties': False,\n",
       " 'required': ['incidences']}"
      ]
     },
     "execution_count": 4,
     "metadata": {},
     "output_type": "execute_result"
    }
   ],
   "source": [
    "schema"
   ]
  },
  {
   "cell_type": "markdown",
   "metadata": {},
   "source": [
    "## Example from HyperNetX Toys\n",
    "\n",
    "The LesMis data was developed out of the [Stanford GraphBase]( https://www-cs-faculty.stanford.edu/~knuth/sgb.html).\n",
    "\n",
    "The hypergraph relates characters to the scenes they participate in. As scenes are indexed relative to a hierarchy, we index the hyperedges by a string of numeric indices referencing the Volume, Book, Chapter, and Scene.  \n",
    "\n",
    "Character's are indexed by a two letter Symbol. \n",
    "\n",
    "Additional metadata is associated with each character including the characters fullname and description.  \n",
    "\n",
    "Since no metadata is associated to the hyperedges, the hif format will only include the incidences and nodes.  "
   ]
  },
  {
   "cell_type": "code",
   "execution_count": 5,
   "metadata": {
    "execution": {
     "iopub.execute_input": "2024-11-04T23:01:11.505984Z",
     "iopub.status.busy": "2024-11-04T23:01:11.505734Z",
     "iopub.status.idle": "2024-11-04T23:01:11.818230Z",
     "shell.execute_reply": "2024-11-04T23:01:11.817789Z",
     "shell.execute_reply.started": "2024-11-04T23:01:11.505961Z"
    }
   },
   "outputs": [
    {
     "data": {
      "text/html": [
       "<div>\n",
       "<style scoped>\n",
       "    .dataframe tbody tr th:only-of-type {\n",
       "        vertical-align: middle;\n",
       "    }\n",
       "\n",
       "    .dataframe tbody tr th {\n",
       "        vertical-align: top;\n",
       "    }\n",
       "\n",
       "    .dataframe thead th {\n",
       "        text-align: right;\n",
       "    }\n",
       "</style>\n",
       "<table border=\"1\" class=\"dataframe\">\n",
       "  <thead>\n",
       "    <tr style=\"text-align: right;\">\n",
       "      <th></th>\n",
       "      <th>Volume</th>\n",
       "      <th>Book</th>\n",
       "      <th>Chapter</th>\n",
       "      <th>Scene</th>\n",
       "      <th>Step</th>\n",
       "      <th>Characters</th>\n",
       "    </tr>\n",
       "  </thead>\n",
       "  <tbody>\n",
       "    <tr>\n",
       "      <th>0</th>\n",
       "      <td>1</td>\n",
       "      <td>1</td>\n",
       "      <td>1</td>\n",
       "      <td>0</td>\n",
       "      <td>0</td>\n",
       "      <td>MY</td>\n",
       "    </tr>\n",
       "    <tr>\n",
       "      <th>1</th>\n",
       "      <td>1</td>\n",
       "      <td>1</td>\n",
       "      <td>1</td>\n",
       "      <td>0</td>\n",
       "      <td>0</td>\n",
       "      <td>NP</td>\n",
       "    </tr>\n",
       "    <tr>\n",
       "      <th>2</th>\n",
       "      <td>1</td>\n",
       "      <td>1</td>\n",
       "      <td>1</td>\n",
       "      <td>1</td>\n",
       "      <td>1</td>\n",
       "      <td>MY</td>\n",
       "    </tr>\n",
       "    <tr>\n",
       "      <th>3</th>\n",
       "      <td>1</td>\n",
       "      <td>1</td>\n",
       "      <td>1</td>\n",
       "      <td>1</td>\n",
       "      <td>1</td>\n",
       "      <td>MB</td>\n",
       "    </tr>\n",
       "    <tr>\n",
       "      <th>4</th>\n",
       "      <td>1</td>\n",
       "      <td>1</td>\n",
       "      <td>2</td>\n",
       "      <td>0</td>\n",
       "      <td>2</td>\n",
       "      <td>MY</td>\n",
       "    </tr>\n",
       "    <tr>\n",
       "      <th>...</th>\n",
       "      <td>...</td>\n",
       "      <td>...</td>\n",
       "      <td>...</td>\n",
       "      <td>...</td>\n",
       "      <td>...</td>\n",
       "      <td>...</td>\n",
       "    </tr>\n",
       "    <tr>\n",
       "      <th>857</th>\n",
       "      <td>5</td>\n",
       "      <td>9</td>\n",
       "      <td>4</td>\n",
       "      <td>1</td>\n",
       "      <td>400</td>\n",
       "      <td>MA</td>\n",
       "    </tr>\n",
       "    <tr>\n",
       "      <th>858</th>\n",
       "      <td>5</td>\n",
       "      <td>9</td>\n",
       "      <td>4</td>\n",
       "      <td>1</td>\n",
       "      <td>400</td>\n",
       "      <td>CO</td>\n",
       "    </tr>\n",
       "    <tr>\n",
       "      <th>859</th>\n",
       "      <td>5</td>\n",
       "      <td>9</td>\n",
       "      <td>5</td>\n",
       "      <td>0</td>\n",
       "      <td>401</td>\n",
       "      <td>JV</td>\n",
       "    </tr>\n",
       "    <tr>\n",
       "      <th>860</th>\n",
       "      <td>5</td>\n",
       "      <td>9</td>\n",
       "      <td>5</td>\n",
       "      <td>0</td>\n",
       "      <td>401</td>\n",
       "      <td>CO</td>\n",
       "    </tr>\n",
       "    <tr>\n",
       "      <th>861</th>\n",
       "      <td>5</td>\n",
       "      <td>9</td>\n",
       "      <td>5</td>\n",
       "      <td>0</td>\n",
       "      <td>401</td>\n",
       "      <td>MA</td>\n",
       "    </tr>\n",
       "  </tbody>\n",
       "</table>\n",
       "<p>862 rows × 6 columns</p>\n",
       "</div>"
      ],
      "text/plain": [
       "     Volume  Book  Chapter  Scene  Step Characters\n",
       "0         1     1        1      0     0         MY\n",
       "1         1     1        1      0     0         NP\n",
       "2         1     1        1      1     1         MY\n",
       "3         1     1        1      1     1         MB\n",
       "4         1     1        2      0     2         MY\n",
       "..      ...   ...      ...    ...   ...        ...\n",
       "857       5     9        4      1   400         MA\n",
       "858       5     9        4      1   400         CO\n",
       "859       5     9        5      0   401         JV\n",
       "860       5     9        5      0   401         CO\n",
       "861       5     9        5      0   401         MA\n",
       "\n",
       "[862 rows x 6 columns]"
      ]
     },
     "execution_count": 5,
     "metadata": {},
     "output_type": "execute_result"
    }
   ],
   "source": [
    "from hypernetx.utils import toys\n",
    "\n",
    "lesmis = toys.LesMis()\n",
    "characters = lesmis.df_names\n",
    "scenes = lesmis.df_scenes\n",
    "scenes"
   ]
  },
  {
   "cell_type": "code",
   "execution_count": 6,
   "metadata": {
    "execution": {
     "iopub.execute_input": "2024-11-04T23:01:11.819161Z",
     "iopub.status.busy": "2024-11-04T23:01:11.819015Z",
     "iopub.status.idle": "2024-11-04T23:01:11.823940Z",
     "shell.execute_reply": "2024-11-04T23:01:11.823515Z",
     "shell.execute_reply.started": "2024-11-04T23:01:11.819146Z"
    }
   },
   "outputs": [
    {
     "data": {
      "text/html": [
       "<div>\n",
       "<style scoped>\n",
       "    .dataframe tbody tr th:only-of-type {\n",
       "        vertical-align: middle;\n",
       "    }\n",
       "\n",
       "    .dataframe tbody tr th {\n",
       "        vertical-align: top;\n",
       "    }\n",
       "\n",
       "    .dataframe thead th {\n",
       "        text-align: right;\n",
       "    }\n",
       "</style>\n",
       "<table border=\"1\" class=\"dataframe\">\n",
       "  <thead>\n",
       "    <tr style=\"text-align: right;\">\n",
       "      <th></th>\n",
       "      <th>Symbol</th>\n",
       "      <th>FullName</th>\n",
       "      <th>Description</th>\n",
       "    </tr>\n",
       "  </thead>\n",
       "  <tbody>\n",
       "    <tr>\n",
       "      <th>0</th>\n",
       "      <td>AZ</td>\n",
       "      <td>Anzelma</td>\n",
       "      <td>daughter of TH and TM</td>\n",
       "    </tr>\n",
       "    <tr>\n",
       "      <th>1</th>\n",
       "      <td>BA</td>\n",
       "      <td>Bahorel</td>\n",
       "      <td>`Friends of the ABC' cutup</td>\n",
       "    </tr>\n",
       "    <tr>\n",
       "      <th>2</th>\n",
       "      <td>BB</td>\n",
       "      <td>Babet</td>\n",
       "      <td>tooth-pulling bandit of Paris</td>\n",
       "    </tr>\n",
       "    <tr>\n",
       "      <th>3</th>\n",
       "      <td>BJ</td>\n",
       "      <td>Brujon</td>\n",
       "      <td>notorious criminal</td>\n",
       "    </tr>\n",
       "    <tr>\n",
       "      <th>4</th>\n",
       "      <td>BL</td>\n",
       "      <td>Blacheville</td>\n",
       "      <td>Parisian student from Montauban</td>\n",
       "    </tr>\n",
       "    <tr>\n",
       "      <th>...</th>\n",
       "      <td>...</td>\n",
       "      <td>...</td>\n",
       "      <td>...</td>\n",
       "    </tr>\n",
       "    <tr>\n",
       "      <th>75</th>\n",
       "      <td>TS</td>\n",
       "      <td>Toussaint</td>\n",
       "      <td>servant of JV at Rue Plumet</td>\n",
       "    </tr>\n",
       "    <tr>\n",
       "      <th>76</th>\n",
       "      <td>VI</td>\n",
       "      <td>Madame Victurnien</td>\n",
       "      <td>snoop in M-- sur M--</td>\n",
       "    </tr>\n",
       "    <tr>\n",
       "      <th>77</th>\n",
       "      <td>XA</td>\n",
       "      <td>Child 1</td>\n",
       "      <td>son of TH sold to MN</td>\n",
       "    </tr>\n",
       "    <tr>\n",
       "      <th>78</th>\n",
       "      <td>XB</td>\n",
       "      <td>Child 2</td>\n",
       "      <td>son of TH sold to MN</td>\n",
       "    </tr>\n",
       "    <tr>\n",
       "      <th>79</th>\n",
       "      <td>ZE</td>\n",
       "      <td>Zephine</td>\n",
       "      <td>lover of FA</td>\n",
       "    </tr>\n",
       "  </tbody>\n",
       "</table>\n",
       "<p>80 rows × 3 columns</p>\n",
       "</div>"
      ],
      "text/plain": [
       "   Symbol           FullName                       Description\n",
       "0      AZ            Anzelma             daughter of TH and TM\n",
       "1      BA            Bahorel        `Friends of the ABC' cutup\n",
       "2      BB              Babet     tooth-pulling bandit of Paris\n",
       "3      BJ             Brujon                notorious criminal\n",
       "4      BL        Blacheville   Parisian student from Montauban\n",
       "..    ...                ...                               ...\n",
       "75     TS          Toussaint       servant of JV at Rue Plumet\n",
       "76     VI  Madame Victurnien              snoop in M-- sur M--\n",
       "77     XA            Child 1              son of TH sold to MN\n",
       "78     XB            Child 2              son of TH sold to MN\n",
       "79     ZE            Zephine                       lover of FA\n",
       "\n",
       "[80 rows x 3 columns]"
      ]
     },
     "execution_count": 6,
     "metadata": {},
     "output_type": "execute_result"
    }
   ],
   "source": [
    "characters"
   ]
  },
  {
   "cell_type": "code",
   "execution_count": 7,
   "metadata": {
    "execution": {
     "iopub.execute_input": "2024-11-04T23:01:11.825051Z",
     "iopub.status.busy": "2024-11-04T23:01:11.824799Z",
     "iopub.status.idle": "2024-11-04T23:01:11.913302Z",
     "shell.execute_reply": "2024-11-04T23:01:11.913001Z",
     "shell.execute_reply.started": "2024-11-04T23:01:11.825035Z"
    }
   },
   "outputs": [],
   "source": [
    "scenes[\"edge\"] = [\n",
    "    \".\".join([str(scenes.loc[idx][col]) for col in scenes.columns[:-2]])\n",
    "    for idx in scenes.index\n",
    "]\n",
    "scenes[\"node\"] = scenes[\"Characters\"]\n",
    "incidences = scenes[[\"edge\", \"node\"]]\n",
    "cell_weights = incidences.groupby([\"edge\"]).count().to_dict()[\"node\"]\n",
    "incidences[\"weight\"] = incidences.edge.map(lambda e: np.round(1 / cell_weights.get(e, 1), 2))\n",
    "\n",
    "incidences = incidences.to_dict(orient=\"records\")\n",
    "nodes = characters.rename(columns={\"Symbol\":\"node\"}).to_dict(orient=\"records\")\n"
   ]
  },
  {
   "cell_type": "code",
   "execution_count": 8,
   "metadata": {
    "execution": {
     "iopub.execute_input": "2024-11-04T23:01:11.913768Z",
     "iopub.status.busy": "2024-11-04T23:01:11.913682Z",
     "iopub.status.idle": "2024-11-04T23:01:11.917028Z",
     "shell.execute_reply": "2024-11-04T23:01:11.916749Z",
     "shell.execute_reply.started": "2024-11-04T23:01:11.913758Z"
    }
   },
   "outputs": [
    {
     "name": "stdout",
     "output_type": "stream",
     "text": [
      "[{'edge': '1.1.1.0', 'node': 'MY', 'weight': 0.5}, {'edge': '1.1.1.0', 'node': 'NP', 'weight': 0.5}, {'edge': '1.1.1.1', 'node': 'MY', 'weight': 0.5}] \n",
      "\n",
      "[{'node': 'AZ', 'FullName': 'Anzelma', 'Description': ' daughter of TH and TM'}, {'node': 'BA', 'FullName': 'Bahorel', 'Description': \" `Friends of the ABC' cutup\"}, {'node': 'BB', 'FullName': 'Babet', 'Description': ' tooth-pulling bandit of Paris'}] \n",
      "\n",
      "[] \n",
      "\n"
     ]
    }
   ],
   "source": [
    "lesmis_hif = {\n",
    "    \"incidences\": incidences,\n",
    "    \"nodes\": nodes,\n",
    "}\n",
    "try:\n",
    "    output = validator(lesmis_hif)\n",
    "    for string in ['incidences','nodes','edges']:\n",
    "        print(output.get(string,[])[:3],'\\n')\n",
    "except Exception as exception:\n",
    "    print(exception)\n",
    "    "
   ]
  },
  {
   "cell_type": "code",
   "execution_count": 17,
   "metadata": {
    "execution": {
     "iopub.execute_input": "2024-11-04T23:46:31.088612Z",
     "iopub.status.busy": "2024-11-04T23:46:31.087679Z",
     "iopub.status.idle": "2024-11-04T23:46:31.162733Z",
     "shell.execute_reply": "2024-11-04T23:46:31.161393Z",
     "shell.execute_reply.started": "2024-11-04T23:46:31.088552Z"
    }
   },
   "outputs": [],
   "source": [
    "## We add metadata and network type to better inform other libraries that might use the data\n",
    "lesmis_hif[\"network-type\"] = \"undirected\"\n",
    "json.dump(lesmis_hif, open('lesmis-hif.json','w'))"
   ]
  },
  {
   "cell_type": "markdown",
   "metadata": {},
   "source": [
    "## Example from XGI\n",
    "Contact-High-School originally sourced from:\n",
    "https://www.cs.cornell.edu/~arb/data/contact-high-school/\n",
    "\n",
    "This example is already in json form, but not in the HIF standard. There are NaNs, which won't play well with some hypergraph libraries.\n",
    "\n",
    "In general, a property that belongs to all items in the incidences or edges, or nodes, should either be included in the HIF standard under properties, or should satisfy the additionalProperties schema. A property that only belongs to some of these items should be included in the attrs object for the item."
   ]
  },
  {
   "cell_type": "code",
   "execution_count": 10,
   "metadata": {
    "execution": {
     "iopub.execute_input": "2024-11-04T23:01:11.930011Z",
     "iopub.status.busy": "2024-11-04T23:01:11.929911Z",
     "iopub.status.idle": "2024-11-04T23:01:12.190745Z",
     "shell.execute_reply": "2024-11-04T23:01:12.190391Z",
     "shell.execute_reply.started": "2024-11-04T23:01:11.930000Z"
    }
   },
   "outputs": [
    {
     "data": {
      "text/plain": [
       "dict_keys(['nodes', 'hyperedges'])"
      ]
     },
     "execution_count": 10,
     "metadata": {},
     "output_type": "execute_result"
    }
   ],
   "source": [
    "chs = json.load(open('contacts-high-school.json','r'))\n",
    "chs.keys()"
   ]
  },
  {
   "cell_type": "code",
   "execution_count": 11,
   "metadata": {
    "execution": {
     "iopub.execute_input": "2024-11-04T23:01:12.191442Z",
     "iopub.status.busy": "2024-11-04T23:01:12.191341Z",
     "iopub.status.idle": "2024-11-04T23:01:12.199186Z",
     "shell.execute_reply": "2024-11-04T23:01:12.198866Z",
     "shell.execute_reply.started": "2024-11-04T23:01:12.191432Z"
    }
   },
   "outputs": [
    {
     "data": {
      "text/html": [
       "<div>\n",
       "<style scoped>\n",
       "    .dataframe tbody tr th:only-of-type {\n",
       "        vertical-align: middle;\n",
       "    }\n",
       "\n",
       "    .dataframe tbody tr th {\n",
       "        vertical-align: top;\n",
       "    }\n",
       "\n",
       "    .dataframe thead th {\n",
       "        text-align: right;\n",
       "    }\n",
       "</style>\n",
       "<table border=\"1\" class=\"dataframe\">\n",
       "  <thead>\n",
       "    <tr style=\"text-align: right;\">\n",
       "      <th></th>\n",
       "      <th>class</th>\n",
       "      <th>id</th>\n",
       "      <th>has_facebook</th>\n",
       "      <th>has_compiled_questionnaire</th>\n",
       "      <th>facebook_friends</th>\n",
       "      <th>sex</th>\n",
       "      <th>questionnaire_friends</th>\n",
       "    </tr>\n",
       "  </thead>\n",
       "  <tbody>\n",
       "    <tr>\n",
       "      <th>0</th>\n",
       "      <td>MP</td>\n",
       "      <td>454</td>\n",
       "      <td>True</td>\n",
       "      <td>False</td>\n",
       "      <td>[34, 151, 156, 159, 866, 640, 1232]</td>\n",
       "      <td>F</td>\n",
       "      <td>NaN</td>\n",
       "    </tr>\n",
       "    <tr>\n",
       "      <th>1</th>\n",
       "      <td>MP</td>\n",
       "      <td>640</td>\n",
       "      <td>True</td>\n",
       "      <td>False</td>\n",
       "      <td>[151, 159, 454]</td>\n",
       "      <td>M</td>\n",
       "      <td>NaN</td>\n",
       "    </tr>\n",
       "    <tr>\n",
       "      <th>2</th>\n",
       "      <td>2BIO3</td>\n",
       "      <td>1</td>\n",
       "      <td>True</td>\n",
       "      <td>True</td>\n",
       "      <td>[883, 132, 339, 653, 545, 171, 117, 196, 587, ...</td>\n",
       "      <td>M</td>\n",
       "      <td>[205, 272, 494, 779, 894]</td>\n",
       "    </tr>\n",
       "    <tr>\n",
       "      <th>3</th>\n",
       "      <td>2BIO3</td>\n",
       "      <td>939</td>\n",
       "      <td>True</td>\n",
       "      <td>False</td>\n",
       "      <td>[1, 55, 101, 106, 117, 119, 122, 132, 156, 170...</td>\n",
       "      <td>M</td>\n",
       "      <td>NaN</td>\n",
       "    </tr>\n",
       "    <tr>\n",
       "      <th>4</th>\n",
       "      <td>PC*</td>\n",
       "      <td>185</td>\n",
       "      <td>False</td>\n",
       "      <td>False</td>\n",
       "      <td>NaN</td>\n",
       "      <td>M</td>\n",
       "      <td>NaN</td>\n",
       "    </tr>\n",
       "    <tr>\n",
       "      <th>...</th>\n",
       "      <td>...</td>\n",
       "      <td>...</td>\n",
       "      <td>...</td>\n",
       "      <td>...</td>\n",
       "      <td>...</td>\n",
       "      <td>...</td>\n",
       "      <td>...</td>\n",
       "    </tr>\n",
       "    <tr>\n",
       "      <th>322</th>\n",
       "      <td>MP</td>\n",
       "      <td>34</td>\n",
       "      <td>True</td>\n",
       "      <td>True</td>\n",
       "      <td>[20, 513, 1332, 502, 454, 1870, 201, 245, 387,...</td>\n",
       "      <td>Unknown</td>\n",
       "      <td>[277, 502, 866]</td>\n",
       "    </tr>\n",
       "    <tr>\n",
       "      <th>323</th>\n",
       "      <td>2BIO2</td>\n",
       "      <td>239</td>\n",
       "      <td>False</td>\n",
       "      <td>False</td>\n",
       "      <td>NaN</td>\n",
       "      <td>F</td>\n",
       "      <td>NaN</td>\n",
       "    </tr>\n",
       "    <tr>\n",
       "      <th>324</th>\n",
       "      <td>2BIO1</td>\n",
       "      <td>62</td>\n",
       "      <td>True</td>\n",
       "      <td>False</td>\n",
       "      <td>[428, 425, 544, 122, 275]</td>\n",
       "      <td>F</td>\n",
       "      <td>NaN</td>\n",
       "    </tr>\n",
       "    <tr>\n",
       "      <th>325</th>\n",
       "      <td>PSI*</td>\n",
       "      <td>452</td>\n",
       "      <td>True</td>\n",
       "      <td>True</td>\n",
       "      <td>[20, 34, 151, 156, 246, 387, 440, 691, 513, 86...</td>\n",
       "      <td>M</td>\n",
       "      <td>[634, 691, 869, 1332]</td>\n",
       "    </tr>\n",
       "    <tr>\n",
       "      <th>326</th>\n",
       "      <td>MP*1</td>\n",
       "      <td>445</td>\n",
       "      <td>False</td>\n",
       "      <td>False</td>\n",
       "      <td>NaN</td>\n",
       "      <td>M</td>\n",
       "      <td>NaN</td>\n",
       "    </tr>\n",
       "  </tbody>\n",
       "</table>\n",
       "<p>327 rows × 7 columns</p>\n",
       "</div>"
      ],
      "text/plain": [
       "     class   id  has_facebook  has_compiled_questionnaire  \\\n",
       "0       MP  454          True                       False   \n",
       "1       MP  640          True                       False   \n",
       "2    2BIO3    1          True                        True   \n",
       "3    2BIO3  939          True                       False   \n",
       "4      PC*  185         False                       False   \n",
       "..     ...  ...           ...                         ...   \n",
       "322     MP   34          True                        True   \n",
       "323  2BIO2  239         False                       False   \n",
       "324  2BIO1   62          True                       False   \n",
       "325   PSI*  452          True                        True   \n",
       "326   MP*1  445         False                       False   \n",
       "\n",
       "                                      facebook_friends      sex  \\\n",
       "0                  [34, 151, 156, 159, 866, 640, 1232]        F   \n",
       "1                                      [151, 159, 454]        M   \n",
       "2    [883, 132, 339, 653, 545, 171, 117, 196, 587, ...        M   \n",
       "3    [1, 55, 101, 106, 117, 119, 122, 132, 156, 170...        M   \n",
       "4                                                  NaN        M   \n",
       "..                                                 ...      ...   \n",
       "322  [20, 513, 1332, 502, 454, 1870, 201, 245, 387,...  Unknown   \n",
       "323                                                NaN        F   \n",
       "324                          [428, 425, 544, 122, 275]        F   \n",
       "325  [20, 34, 151, 156, 246, 387, 440, 691, 513, 86...        M   \n",
       "326                                                NaN        M   \n",
       "\n",
       "         questionnaire_friends  \n",
       "0                          NaN  \n",
       "1                          NaN  \n",
       "2    [205, 272, 494, 779, 894]  \n",
       "3                          NaN  \n",
       "4                          NaN  \n",
       "..                         ...  \n",
       "322            [277, 502, 866]  \n",
       "323                        NaN  \n",
       "324                        NaN  \n",
       "325      [634, 691, 869, 1332]  \n",
       "326                        NaN  \n",
       "\n",
       "[327 rows x 7 columns]"
      ]
     },
     "execution_count": 11,
     "metadata": {},
     "output_type": "execute_result"
    }
   ],
   "source": [
    "chsnodes = pd.DataFrame(chs['nodes'])\n",
    "chsnodes"
   ]
  },
  {
   "cell_type": "markdown",
   "metadata": {},
   "source": [
    "Since the columns **facebook_friends** and **questionnaire_friends** contain NaNs we will put those properties in the attrs object for each node."
   ]
  },
  {
   "cell_type": "code",
   "execution_count": 12,
   "metadata": {
    "execution": {
     "iopub.execute_input": "2024-11-04T23:01:12.200209Z",
     "iopub.status.busy": "2024-11-04T23:01:12.199957Z",
     "iopub.status.idle": "2024-11-04T23:01:12.229960Z",
     "shell.execute_reply": "2024-11-04T23:01:12.229671Z",
     "shell.execute_reply.started": "2024-11-04T23:01:12.200197Z"
    }
   },
   "outputs": [],
   "source": [
    "chsnodes = pd.DataFrame(chs['nodes']).fillna(\"None\")\n",
    "cols = list(chsnodes.columns)\n",
    "cols = ['id','class'] + cols[2:] ## reordering columns so node id is first (optional)\n",
    "chsnodes = chsnodes[cols]\n",
    "\n",
    "chsnodes['attrs'] = [{} for i in range(len(chsnodes))]\n",
    "for idx in chsnodes.index:\n",
    "    for col in ['facebook_friends','questionnaire_friends']:\n",
    "        if chsnodes.loc[idx][col] != \"None\":\n",
    "            chsnodes.loc[idx]['attrs'][col] = chsnodes.loc[idx][col]\n",
    "for col in ['facebook_friends','questionnaire_friends']:\n",
    "    del chsnodes[col]\n",
    "chsnodes = chsnodes.rename(columns={'id':'node'})\n",
    "\n",
    "chsnodes = chsnodes.to_dict(orient='records')"
   ]
  },
  {
   "cell_type": "code",
   "execution_count": 13,
   "metadata": {
    "execution": {
     "iopub.execute_input": "2024-11-04T23:01:12.230442Z",
     "iopub.status.busy": "2024-11-04T23:01:12.230351Z",
     "iopub.status.idle": "2024-11-04T23:01:12.234055Z",
     "shell.execute_reply": "2024-11-04T23:01:12.233401Z",
     "shell.execute_reply.started": "2024-11-04T23:01:12.230432Z"
    }
   },
   "outputs": [
    {
     "data": {
      "text/plain": [
       "[{'interaction': [454, 640], 'time': 1385982020},\n",
       " {'interaction': [1, 939], 'time': 1385982020},\n",
       " {'interaction': [185, 258], 'time': 1385982020}]"
      ]
     },
     "execution_count": 13,
     "metadata": {},
     "output_type": "execute_result"
    }
   ],
   "source": [
    "chs[\"hyperedges\"][:3]"
   ]
  },
  {
   "cell_type": "markdown",
   "metadata": {},
   "source": [
    "The hyperedges include a timestamp. HIF uses \"edge\" instead of \"hyperedge\" and pairs each edge and node incident to it in the incidences object of HIF. Since no edge name is given we will index them by their order in the list.  \n",
    "\n",
    "The \"time\" property references the entire edge not a single incidence, so it will go into the additionalProperties of the \"edges\" object in HIF.\n",
    "\n",
    "We include the network-type and metadata for the source in the HIF format."
   ]
  },
  {
   "cell_type": "code",
   "execution_count": 14,
   "metadata": {
    "execution": {
     "iopub.execute_input": "2024-11-04T23:01:12.234687Z",
     "iopub.status.busy": "2024-11-04T23:01:12.234558Z",
     "iopub.status.idle": "2024-11-04T23:01:12.521848Z",
     "shell.execute_reply": "2024-11-04T23:01:12.521535Z",
     "shell.execute_reply.started": "2024-11-04T23:01:12.234675Z"
    }
   },
   "outputs": [],
   "source": [
    "chshyper = pd.DataFrame(chs['hyperedges']).reset_index().rename(columns={\"index\":\"edge\"})\n",
    "chsinc = chshyper['interaction'].explode().reset_index().rename(columns={'index':'edge','interaction':'node'})\n",
    "\n",
    "chsedges = chshyper[['edge','time']].to_dict(orient='records')\n",
    "chsinc = chsinc.to_dict(orient=\"records\")"
   ]
  },
  {
   "cell_type": "code",
   "execution_count": 15,
   "metadata": {
    "execution": {
     "iopub.execute_input": "2024-11-04T23:01:12.522472Z",
     "iopub.status.busy": "2024-11-04T23:01:12.522371Z",
     "iopub.status.idle": "2024-11-04T23:01:12.928891Z",
     "shell.execute_reply": "2024-11-04T23:01:12.928601Z",
     "shell.execute_reply.started": "2024-11-04T23:01:12.522462Z"
    }
   },
   "outputs": [
    {
     "name": "stdout",
     "output_type": "stream",
     "text": [
      "[{'edge': 0, 'node': 454}, {'edge': 0, 'node': 640}, {'edge': 1, 'node': 1}] \n",
      "\n",
      "[{'node': 454, 'class': 'MP', 'has_facebook': True, 'has_compiled_questionnaire': False, 'sex': 'F', 'attrs': {'facebook_friends': [34, 151, 156, 159, 866, 640, 1232]}}, {'node': 640, 'class': 'MP', 'has_facebook': True, 'has_compiled_questionnaire': False, 'sex': 'M', 'attrs': {'facebook_friends': [151, 159, 454]}}, {'node': 1, 'class': '2BIO3', 'has_facebook': True, 'has_compiled_questionnaire': True, 'sex': 'M', 'attrs': {'facebook_friends': [883, 132, 339, 653, 545, 171, 117, 196, 587, 372, 147, 55, 859, 106, 504, 471, 425, 170, 939, 272, 3, 119, 494, 205, 265, 779, 364, 240, 477, 101, 884], 'questionnaire_friends': [205, 272, 494, 779, 894]}}] \n",
      "\n",
      "[{'edge': 0, 'time': 1385982020}, {'edge': 1, 'time': 1385982020}, {'edge': 2, 'time': 1385982020}] \n",
      "\n"
     ]
    }
   ],
   "source": [
    "chs_hif = {\n",
    "    \"network-type\":\"undirected\",\n",
    "    \"metadata\":{\n",
    "        \"source\": \"https://www.cs.cornell.edu/~arb/data/contact-high-school/\"\n",
    "    },\n",
    "    \"incidences\": chsinc,\n",
    "    \"edges\": chsedges,\n",
    "    \"nodes\": chsnodes\n",
    "}\n",
    "\n",
    "try:\n",
    "    output = validator(chs_hif)\n",
    "    for string in ['incidences','nodes','edges']:\n",
    "        print(output.get(string,[])[:3],'\\n')\n",
    "except Exception as exception:\n",
    "    print(exception)"
   ]
  },
  {
   "cell_type": "code",
   "execution_count": 16,
   "metadata": {
    "execution": {
     "iopub.execute_input": "2024-11-04T23:01:12.929567Z",
     "iopub.status.busy": "2024-11-04T23:01:12.929474Z",
     "iopub.status.idle": "2024-11-04T23:01:14.125632Z",
     "shell.execute_reply": "2024-11-04T23:01:14.125279Z",
     "shell.execute_reply.started": "2024-11-04T23:01:12.929557Z"
    }
   },
   "outputs": [],
   "source": [
    "json.dump(chs_hif, open('contacts-high-school-hif.json','w'))"
   ]
  }
 ],
 "metadata": {
  "kernelspec": {
   "display_name": "Python 3 (ipykernel)",
   "language": "python",
   "name": "python3"
  },
  "language_info": {
   "codemirror_mode": {
    "name": "ipython",
    "version": 3
   },
   "file_extension": ".py",
   "mimetype": "text/x-python",
   "name": "python",
   "nbconvert_exporter": "python",
   "pygments_lexer": "ipython3",
   "version": "3.10.0"
  }
 },
 "nbformat": 4,
 "nbformat_minor": 4
}
